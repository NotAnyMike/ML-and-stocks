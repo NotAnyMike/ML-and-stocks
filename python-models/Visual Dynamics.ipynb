{
 "cells": [
  {
   "cell_type": "markdown",
   "metadata": {},
   "source": [
    "# Visual Dynamics"
   ]
  },
  {
   "cell_type": "markdown",
   "metadata": {},
   "source": [
    "This code is the implementation of `Visual Dynamics: Probabilistic Future Frame Synthesis via Cross Convolutional Networks`"
   ]
  },
  {
   "cell_type": "code",
   "execution_count": 4,
   "metadata": {
    "collapsed": true
   },
   "outputs": [],
   "source": [
    "import numpy as np\n",
    "import tensorflow as tf"
   ]
  },
  {
   "cell_type": "code",
   "execution_count": 47,
   "metadata": {},
   "outputs": [],
   "source": [
    "x = tf.placeholder(shape=(None,128,128,3), dtype=tf.float32)\n",
    "\n",
    "#First convolution: 5x5x96\n",
    "weights = tf.Variable(tf.random_normal([5,5,3,96]))\n",
    "bias = tf.Variable(tf.zeros([96,]))\n",
    "logits = tf.nn.conv2d(x, filter=weights, strides=[1,1,1,1], padding='SAME')\n",
    "logits = tf.add(logits, bias)\n",
    "logits = tf.nn.relu(logits)\n",
    "\n",
    "#Second convolution: 5x5x96\n",
    "weights = tf.Variable(tf.random_normal([5,5,96,96]))\n",
    "bias = tf.Variable(tf.zeros([96,]))\n",
    "logits = tf.nn.conv2d(logits, filter=weights, strides=[1,1,1,1], padding='SAME')\n",
    "logits = tf.add(logits, bias)\n",
    "logits = tf.nn.max_pool(logits, ksize=[1,2,2,1], strides=[1,2,2,1], padding='VALID')\n",
    "logits = tf.nn.relu(logits)\n",
    "\n",
    "#Third convolution: 5x5x128\n",
    "weights = tf.Variable(tf.random_normal([5,5,96,128]))\n",
    "bias = tf.Variable(tf.zeros([128,]))\n",
    "logits = tf.nn.conv2d(logits, filter=weights, strides=[1,1,1,1], padding='SAME')\n",
    "logits = tf.add(logits, bias)\n",
    "logits = tf.nn.max_pool(logits, ksize=[1,2,2,1], strides=[1,2,2,1], padding='VALID')\n",
    "logits = tf.nn.relu(logits)\n",
    "\n",
    "#Forth convolution: 5x5x128\n",
    "weights = tf.Variable(tf.random_normal([5,5,128,128]))\n",
    "bias = tf.Variable(tf.zeros([128,]))\n",
    "logits = tf.nn.conv2d(logits, filter=weights, strides=[1,1,1,1], padding='VALID')\n",
    "logits = tf.add(logits, bias)\n",
    "logits = tf.nn.max_pool(logits, ksize=[1,2,2,1], strides=[1,2,2,1], padding='VALID')\n",
    "logits = tf.nn.relu(logits)\n",
    "\n",
    "#Fifth convolution: 5x5x256\n",
    "weights = tf.Variable(tf.random_normal([5,5,128,256]))\n",
    "bias = tf.Variable(tf.zeros([256,]))\n",
    "logits = tf.nn.conv2d(logits, filter=weights, strides=[1,1,1,1], padding='VALID')\n",
    "logits = tf.add(logits, bias)\n",
    "logits = tf.nn.max_pool(logits, ksize=[1,2,2,1], strides=[1,2,2,1], padding='VALID')\n",
    "logits = tf.nn.relu(logits)\n",
    "\n",
    "#Sixth convolution: 5x5x256\n",
    "weights = tf.Variable(tf.random_normal([5,5,256,256]))\n",
    "bias = tf.Variable(tf.zeros([256,]))\n",
    "logits = tf.nn.conv2d(logits, filter=weights, strides=[1,1,1,1], padding='SAME')\n",
    "logits = tf.add(logits, bias)\n",
    "logits = tf.nn.relu(logits)\n",
    "\n",
    "logits = tf.contrib.layers.flatten(logits)\n",
    "\n",
    "mean, variance = tf.split(logits, 2, axis=1)"
   ]
  },
  {
   "cell_type": "markdown",
   "metadata": {},
   "source": []
  }
 ],
 "metadata": {
  "kernelspec": {
   "display_name": "Python 3",
   "language": "python",
   "name": "python3"
  },
  "language_info": {
   "codemirror_mode": {
    "name": "ipython",
    "version": 3
   },
   "file_extension": ".py",
   "mimetype": "text/x-python",
   "name": "python",
   "nbconvert_exporter": "python",
   "pygments_lexer": "ipython3",
   "version": "3.5.2"
  }
 },
 "nbformat": 4,
 "nbformat_minor": 2
}
