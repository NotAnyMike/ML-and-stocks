{
 "cells": [
  {
   "cell_type": "code",
   "execution_count": 1,
   "metadata": {},
   "outputs": [
    {
     "name": "stderr",
     "output_type": "stream",
     "text": [
      "Using TensorFlow backend.\n"
     ]
    }
   ],
   "source": [
    "import pandas as pd\n",
    "import numpy as np\n",
    "from keras.layers import Dense, Input\n",
    "from keras.models import Model"
   ]
  },
  {
   "cell_type": "code",
   "execution_count": 9,
   "metadata": {},
   "outputs": [],
   "source": [
    "input_img = Input(shape=(784,))\n",
    "\n",
    "encoded = Dense(128, activation='relu')(input_img)\n",
    "encoded = Dense(64, activation='relu')(encoded)\n",
    "encoded = Dense(32, activation='relu')(encoded)\n",
    "decoded = Dense(64, activation='sigmoid')(encoded)\n",
    "decoded = Dense(128, activation='sigmoid')(encoded)\n",
    "decoded = Dense(784, activation='sigmoid')(encoded)\n",
    "\n",
    "autoencoder = Model(input_img, decoded)\n",
    "\n",
    "encoder = Model(input_img, encoded)\n",
    "\n",
    "decoder_input = Input(shape=(32,))\n",
    "decoder_layer = autoencoder.layers[-1]\n",
    "\n",
    "decoder = Model(decoder_input, decoder_layer(decoder_input))\n",
    "\n",
    "autoencoder.compile(optimizer='adadelta', loss='binary_crossentropy')"
   ]
  },
  {
   "cell_type": "code",
   "execution_count": 10,
   "metadata": {},
   "outputs": [],
   "source": [
    "from keras.datasets import mnist"
   ]
  },
  {
   "cell_type": "code",
   "execution_count": 11,
   "metadata": {
    "collapsed": true
   },
   "outputs": [],
   "source": [
    "(x_train,_), (x_test,_) = mnist.load_data()"
   ]
  },
  {
   "cell_type": "code",
   "execution_count": 12,
   "metadata": {},
   "outputs": [],
   "source": [
    "x_train = x_train.astype('float32') / 255.\n",
    "x_test = x_test.astype('float32') / 255.\n",
    "x_train = x_train.reshape(x_train.shape[0], np.prod(x_train.shape[1:]));\n",
    "x_test = x_test.reshape(x_test.shape[0], np.prod(x_test.shape[1:]));"
   ]
  },
  {
   "cell_type": "code",
   "execution_count": 16,
   "metadata": {},
   "outputs": [
    {
     "name": "stdout",
     "output_type": "stream",
     "text": [
      "Train on 60000 samples, validate on 10000 samples\n",
      "Epoch 1/100\n",
      "60000/60000 [==============================] - 8s 127us/step - loss: 0.1133 - val_loss: 0.1114\n",
      "Epoch 2/100\n",
      "60000/60000 [==============================] - 7s 124us/step - loss: 0.1130 - val_loss: 0.1118\n",
      "Epoch 3/100\n",
      "60000/60000 [==============================] - 7s 114us/step - loss: 0.1126 - val_loss: 0.1104\n",
      "Epoch 4/100\n",
      "60000/60000 [==============================] - 7s 115us/step - loss: 0.1124 - val_loss: 0.1108\n",
      "Epoch 5/100\n",
      "60000/60000 [==============================] - 7s 114us/step - loss: 0.1119 - val_loss: 0.1104\n",
      "Epoch 6/100\n",
      "60000/60000 [==============================] - 7s 116us/step - loss: 0.1117 - val_loss: 0.1094\n",
      "Epoch 7/100\n",
      "60000/60000 [==============================] - 7s 117us/step - loss: 0.1114 - val_loss: 0.1099\n",
      "Epoch 8/100\n",
      "60000/60000 [==============================] - 7s 115us/step - loss: 0.1111 - val_loss: 0.1091\n",
      "Epoch 9/100\n",
      "60000/60000 [==============================] - 7s 117us/step - loss: 0.1108 - val_loss: 0.1087\n",
      "Epoch 10/100\n",
      "60000/60000 [==============================] - 7s 117us/step - loss: 0.1106 - val_loss: 0.1085\n",
      "Epoch 11/100\n",
      "60000/60000 [==============================] - 7s 117us/step - loss: 0.1104 - val_loss: 0.1086\n",
      "Epoch 12/100\n",
      "60000/60000 [==============================] - 7s 117us/step - loss: 0.1100 - val_loss: 0.1083\n",
      "Epoch 13/100\n",
      "60000/60000 [==============================] - 7s 118us/step - loss: 0.1099 - val_loss: 0.1083\n",
      "Epoch 14/100\n",
      "60000/60000 [==============================] - 7s 117us/step - loss: 0.1096 - val_loss: 0.1079\n",
      "Epoch 15/100\n",
      "60000/60000 [==============================] - 7s 120us/step - loss: 0.1095 - val_loss: 0.1087\n",
      "Epoch 16/100\n",
      "60000/60000 [==============================] - 7s 118us/step - loss: 0.1093 - val_loss: 0.1074\n",
      "Epoch 17/100\n",
      "60000/60000 [==============================] - 7s 120us/step - loss: 0.1091 - val_loss: 0.1074\n",
      "Epoch 18/100\n",
      "60000/60000 [==============================] - 7s 118us/step - loss: 0.1090 - val_loss: 0.1075\n",
      "Epoch 19/100\n",
      "60000/60000 [==============================] - 7s 118us/step - loss: 0.1088 - val_loss: 0.1070\n",
      "Epoch 20/100\n",
      "60000/60000 [==============================] - 7s 120us/step - loss: 0.1088 - val_loss: 0.1071\n",
      "Epoch 21/100\n",
      "60000/60000 [==============================] - 8s 141us/step - loss: 0.1085 - val_loss: 0.1068\n",
      "Epoch 22/100\n",
      "60000/60000 [==============================] - 9s 152us/step - loss: 0.1083 - val_loss: 0.1067\n",
      "Epoch 23/100\n",
      "60000/60000 [==============================] - 9s 149us/step - loss: 0.1082 - val_loss: 0.1071\n",
      "Epoch 24/100\n",
      "60000/60000 [==============================] - 8s 138us/step - loss: 0.1079 - val_loss: 0.1062\n",
      "Epoch 25/100\n",
      "60000/60000 [==============================] - 7s 120us/step - loss: 0.1078 - val_loss: 0.1064\n",
      "Epoch 26/100\n",
      "60000/60000 [==============================] - 7s 121us/step - loss: 0.1077 - val_loss: 0.1059\n",
      "Epoch 27/100\n",
      "60000/60000 [==============================] - 7s 120us/step - loss: 0.1075 - val_loss: 0.1057\n",
      "Epoch 28/100\n",
      "60000/60000 [==============================] - 7s 119us/step - loss: 0.1073 - val_loss: 0.1054\n",
      "Epoch 29/100\n",
      "60000/60000 [==============================] - 7s 120us/step - loss: 0.1070 - val_loss: 0.1057\n",
      "Epoch 30/100\n",
      "60000/60000 [==============================] - 7s 122us/step - loss: 0.1069 - val_loss: 0.1053\n",
      "Epoch 31/100\n",
      "60000/60000 [==============================] - 7s 120us/step - loss: 0.1067 - val_loss: 0.1049\n",
      "Epoch 32/100\n",
      "60000/60000 [==============================] - 7s 119us/step - loss: 0.1065 - val_loss: 0.1053\n",
      "Epoch 33/100\n",
      "60000/60000 [==============================] - 7s 120us/step - loss: 0.1064 - val_loss: 0.1048\n",
      "Epoch 34/100\n",
      "60000/60000 [==============================] - 7s 120us/step - loss: 0.1062 - val_loss: 0.1044\n",
      "Epoch 35/100\n",
      "60000/60000 [==============================] - 7s 121us/step - loss: 0.1059 - val_loss: 0.1046\n",
      "Epoch 36/100\n",
      "60000/60000 [==============================] - 7s 122us/step - loss: 0.1059 - val_loss: 0.1043\n",
      "Epoch 37/100\n",
      "60000/60000 [==============================] - 7s 123us/step - loss: 0.1056 - val_loss: 0.1042\n",
      "Epoch 38/100\n",
      "60000/60000 [==============================] - 7s 119us/step - loss: 0.1054 - val_loss: 0.1039\n",
      "Epoch 39/100\n",
      "60000/60000 [==============================] - 7s 121us/step - loss: 0.1054 - val_loss: 0.1038\n",
      "Epoch 40/100\n",
      "60000/60000 [==============================] - 7s 121us/step - loss: 0.1051 - val_loss: 0.1037\n",
      "Epoch 41/100\n",
      "60000/60000 [==============================] - 7s 124us/step - loss: 0.1050 - val_loss: 0.1036\n",
      "Epoch 42/100\n",
      "60000/60000 [==============================] - 7s 122us/step - loss: 0.1048 - val_loss: 0.1036\n",
      "Epoch 43/100\n",
      "60000/60000 [==============================] - 8s 127us/step - loss: 0.1049 - val_loss: 0.1032\n",
      "Epoch 44/100\n",
      "60000/60000 [==============================] - 8s 130us/step - loss: 0.1046 - val_loss: 0.1028\n",
      "Epoch 45/100\n",
      "60000/60000 [==============================] - 7s 124us/step - loss: 0.1044 - val_loss: 0.1031\n",
      "Epoch 46/100\n",
      "60000/60000 [==============================] - 7s 125us/step - loss: 0.1043 - val_loss: 0.1029\n",
      "Epoch 47/100\n",
      "60000/60000 [==============================] - 7s 123us/step - loss: 0.1041 - val_loss: 0.1025\n",
      "Epoch 48/100\n",
      "60000/60000 [==============================] - 7s 123us/step - loss: 0.1039 - val_loss: 0.1024\n",
      "Epoch 49/100\n",
      "60000/60000 [==============================] - 7s 122us/step - loss: 0.1037 - val_loss: 0.1025\n",
      "Epoch 50/100\n",
      "60000/60000 [==============================] - 7s 122us/step - loss: 0.1035 - val_loss: 0.1026\n",
      "Epoch 51/100\n",
      "60000/60000 [==============================] - 7s 124us/step - loss: 0.1034 - val_loss: 0.1023\n",
      "Epoch 52/100\n",
      "60000/60000 [==============================] - 9s 150us/step - loss: 0.1031 - val_loss: 0.1015\n",
      "Epoch 53/100\n",
      "60000/60000 [==============================] - 8s 140us/step - loss: 0.1030 - val_loss: 0.1015\n",
      "Epoch 54/100\n",
      "60000/60000 [==============================] - 8s 130us/step - loss: 0.1028 - val_loss: 0.1013\n",
      "Epoch 55/100\n",
      "60000/60000 [==============================] - 8s 126us/step - loss: 0.1027 - val_loss: 0.1012\n",
      "Epoch 56/100\n",
      "60000/60000 [==============================] - 7s 124us/step - loss: 0.1025 - val_loss: 0.1013\n",
      "Epoch 57/100\n",
      "60000/60000 [==============================] - 8s 126us/step - loss: 0.1025 - val_loss: 0.1007\n",
      "Epoch 58/100\n",
      "60000/60000 [==============================] - 8s 126us/step - loss: 0.1023 - val_loss: 0.1013\n",
      "Epoch 59/100\n",
      "60000/60000 [==============================] - 9s 153us/step - loss: 0.1022 - val_loss: 0.1014\n",
      "Epoch 60/100\n",
      "60000/60000 [==============================] - 9s 155us/step - loss: 0.1022 - val_loss: 0.1008\n",
      "Epoch 61/100\n",
      "60000/60000 [==============================] - 8s 136us/step - loss: 0.1020 - val_loss: 0.1012\n",
      "Epoch 62/100\n",
      "60000/60000 [==============================] - 8s 125us/step - loss: 0.1020 - val_loss: 0.1007\n",
      "Epoch 63/100\n",
      "60000/60000 [==============================] - 8s 126us/step - loss: 0.1019 - val_loss: 0.1010\n",
      "Epoch 64/100\n",
      "60000/60000 [==============================] - 8s 126us/step - loss: 0.1018 - val_loss: 0.1003\n",
      "Epoch 65/100\n",
      "60000/60000 [==============================] - 8s 126us/step - loss: 0.1017 - val_loss: 0.1004\n",
      "Epoch 66/100\n",
      "60000/60000 [==============================] - 8s 125us/step - loss: 0.1016 - val_loss: 0.1002\n",
      "Epoch 67/100\n",
      "60000/60000 [==============================] - 8s 127us/step - loss: 0.1015 - val_loss: 0.1001\n",
      "Epoch 68/100\n",
      "60000/60000 [==============================] - 8s 125us/step - loss: 0.1015 - val_loss: 0.1001\n",
      "Epoch 69/100\n",
      "60000/60000 [==============================] - 8s 125us/step - loss: 0.1014 - val_loss: 0.1003\n",
      "Epoch 70/100\n",
      "60000/60000 [==============================] - 8s 127us/step - loss: 0.1013 - val_loss: 0.1000\n",
      "Epoch 71/100\n",
      "60000/60000 [==============================] - 8s 128us/step - loss: 0.1012 - val_loss: 0.0999\n",
      "Epoch 72/100\n",
      "60000/60000 [==============================] - 8s 129us/step - loss: 0.1012 - val_loss: 0.1001\n",
      "Epoch 73/100\n",
      "60000/60000 [==============================] - 8s 128us/step - loss: 0.1011 - val_loss: 0.0999\n",
      "Epoch 74/100\n",
      "60000/60000 [==============================] - 8s 133us/step - loss: 0.1011 - val_loss: 0.1002\n",
      "Epoch 75/100\n",
      "60000/60000 [==============================] - 8s 127us/step - loss: 0.1011 - val_loss: 0.0997\n",
      "Epoch 76/100\n"
     ]
    },
    {
     "name": "stdout",
     "output_type": "stream",
     "text": [
      "60000/60000 [==============================] - 7s 113us/step - loss: 0.1009 - val_loss: 0.0996\n",
      "Epoch 77/100\n",
      "60000/60000 [==============================] - 7s 114us/step - loss: 0.1009 - val_loss: 0.0999\n",
      "Epoch 78/100\n",
      "60000/60000 [==============================] - 7s 112us/step - loss: 0.1009 - val_loss: 0.0999\n",
      "Epoch 79/100\n",
      "60000/60000 [==============================] - 7s 113us/step - loss: 0.1008 - val_loss: 0.0999\n",
      "Epoch 80/100\n",
      "60000/60000 [==============================] - 7s 113us/step - loss: 0.1006 - val_loss: 0.0993\n",
      "Epoch 81/100\n",
      "60000/60000 [==============================] - 7s 118us/step - loss: 0.1006 - val_loss: 0.0994\n",
      "Epoch 82/100\n",
      "60000/60000 [==============================] - 7s 114us/step - loss: 0.1006 - val_loss: 0.0990\n",
      "Epoch 83/100\n",
      "60000/60000 [==============================] - 9s 142us/step - loss: 0.1005 - val_loss: 0.0991\n",
      "Epoch 84/100\n",
      "60000/60000 [==============================] - 9s 150us/step - loss: 0.1004 - val_loss: 0.0991\n",
      "Epoch 85/100\n",
      "60000/60000 [==============================] - 9s 149us/step - loss: 0.1004 - val_loss: 0.0992\n",
      "Epoch 86/100\n",
      "60000/60000 [==============================] - 9s 146us/step - loss: 0.1004 - val_loss: 0.0991\n",
      "Epoch 87/100\n",
      "60000/60000 [==============================] - 8s 138us/step - loss: 0.1003 - val_loss: 0.0989\n",
      "Epoch 88/100\n",
      "60000/60000 [==============================] - 6s 103us/step - loss: 0.1002 - val_loss: 0.0990\n",
      "Epoch 89/100\n",
      "60000/60000 [==============================] - 6s 104us/step - loss: 0.1002 - val_loss: 0.0989\n",
      "Epoch 90/100\n",
      "60000/60000 [==============================] - 7s 110us/step - loss: 0.1001 - val_loss: 0.0993\n",
      "Epoch 91/100\n",
      "60000/60000 [==============================] - 8s 135us/step - loss: 0.1001 - val_loss: 0.0988\n",
      "Epoch 92/100\n",
      "60000/60000 [==============================] - 8s 129us/step - loss: 0.1000 - val_loss: 0.0989\n",
      "Epoch 93/100\n",
      "60000/60000 [==============================] - 7s 120us/step - loss: 0.0999 - val_loss: 0.0986\n",
      "Epoch 94/100\n",
      "60000/60000 [==============================] - 9s 157us/step - loss: 0.0999 - val_loss: 0.0991\n",
      "Epoch 95/100\n",
      "60000/60000 [==============================] - 9s 148us/step - loss: 0.0998 - val_loss: 0.0986\n",
      "Epoch 96/100\n",
      "60000/60000 [==============================] - 8s 131us/step - loss: 0.0998 - val_loss: 0.0985\n",
      "Epoch 97/100\n",
      "60000/60000 [==============================] - 9s 157us/step - loss: 0.0998 - val_loss: 0.0988\n",
      "Epoch 98/100\n",
      "60000/60000 [==============================] - 8s 132us/step - loss: 0.0996 - val_loss: 0.0985\n",
      "Epoch 99/100\n",
      "60000/60000 [==============================] - 7s 111us/step - loss: 0.0997 - val_loss: 0.0983\n",
      "Epoch 100/100\n",
      "60000/60000 [==============================] - 7s 124us/step - loss: 0.0996 - val_loss: 0.0989\n"
     ]
    },
    {
     "data": {
      "text/plain": [
       "<keras.callbacks.History at 0x12fb7be80>"
      ]
     },
     "execution_count": 16,
     "metadata": {},
     "output_type": "execute_result"
    }
   ],
   "source": [
    "autoencoder.fit(x_train,x_train, \n",
    "               epochs=100,\n",
    "               batch_size=256,\n",
    "               shuffle = True,\n",
    "               validation_data=(x_test,x_test))"
   ]
  },
  {
   "cell_type": "code",
   "execution_count": 17,
   "metadata": {
    "collapsed": true
   },
   "outputs": [],
   "source": [
    "encoded_imgs = encoder.predict(x_test)\n",
    "decoded_imgs = decoder.predict(encoded_imgs)"
   ]
  },
  {
   "cell_type": "code",
   "execution_count": 18,
   "metadata": {},
   "outputs": [
    {
     "data": {
      "image/png": "[encoded data removed]",
      "text/plain": [
       "<matplotlib.figure.Figure at 0x12bb3ac88>"
      ]
     },
     "metadata": {},
     "output_type": "display_data"
    }
   ],
   "source": [
    "import matplotlib.pyplot as plt\n",
    "%matplotlib inline\n",
    "\n",
    "n = 10\n",
    "plt.figure(figsize=(20,4))\n",
    "for i in range(n):\n",
    "    ax = plt.subplot(2, n, i+1)\n",
    "    plt.imshow(x_test[i].reshape(28,28))\n",
    "    plt.gray()\n",
    "    ax.get_xaxis().set_visible(False)\n",
    "    ax.get_yaxis().set_visible(False)\n",
    "    \n",
    "    ax = plt.subplot(2, n, i+n+1)\n",
    "    plt.imshow(decoded_imgs[i].reshape(28,28))\n",
    "    plt.gray()\n",
    "    ax.get_xaxis().set_visible(False)\n",
    "    ax.get_yaxis().set_visible(False)\n",
    "    "
   ]
  },
  {
   "cell_type": "code",
   "execution_count": null,
   "metadata": {
    "collapsed": true
   },
   "outputs": [],
   "source": []
  }
 ],
 "metadata": {
  "kernelspec": {
   "display_name": "Python 3",
   "language": "python",
   "name": "python3"
  },
  "language_info": {
   "codemirror_mode": {
    "name": "ipython",
    "version": 3
   },
   "file_extension": ".py",
   "mimetype": "text/x-python",
   "name": "python",
   "nbconvert_exporter": "python",
   "pygments_lexer": "ipython3",
   "version": "3.5.2"
  }
 },
 "nbformat": 4,
 "nbformat_minor": 2
}
