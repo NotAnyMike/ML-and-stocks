{
 "cells": [
  {
   "cell_type": "markdown",
   "metadata": {},
   "source": [
    "# Exporting the files normalized"
   ]
  },
  {
   "cell_type": "code",
   "execution_count": 19,
   "metadata": {
    "collapsed": true
   },
   "outputs": [],
   "source": [
    "import matplotlib.pyplot as plt\n",
    "import pandas as pd\n",
    "import os"
   ]
  },
  {
   "cell_type": "code",
   "execution_count": 20,
   "metadata": {
    "collapsed": true
   },
   "outputs": [],
   "source": [
    "def bip():\n",
    "    os.system(\"printf '\\a'\")\n",
    "    \n",
    "#def set_trace():\n",
    "import pdb\n",
    "from pdb import set_trace as bp"
   ]
  },
  {
   "cell_type": "code",
   "execution_count": 21,
   "metadata": {
    "collapsed": true
   },
   "outputs": [],
   "source": [
    "files = ['A','AAL','AAN','AAOI','AAP','AAPL','AAXN','ABBV','ABC','ABCO','ABG','ABM','ABMD','ABT','ACAD','ACC','ACGL','ACHC','ACM','ACN','ACOR','ADBE','ADI','ADM','ADP','ADS','ADSK','AEE','AEIS','AEL','AEO','AEP','AER','AERI','AES','AET','AF','AFG','AFL','AFSI','AGCO','AGIO','AGN','AGNC','AGO','AGX','AHL','AIG','AIV','AIZ','AJG','AKAM','AKAO','AKR','AKRX','AKS','AL','ALB','ALDR','ALE','ALGN','ALGT','ALK','ALKS','ALL','ALLE','ALLY','ALNY','ALR','ALSN','ALXN','AMAG','AMAT','AMBA','AMC','AMCX','AMD','AME','AMED','AMG','AMGN','AMH','AMKR','AMN','AMP','AMT','AMTD','AMWD','AMZN','AN','ANET','ANF','ANIP','ANSS','ANTM','AOBC','AON','AOS','APA','APAM','APC','APD','APH','APOG','AR','ARCC','ARE','ARI','ARMK','ARR','ARRS','ARRY','ARW','ASB','ASGN','ASH','ASNA','ATHN','ATI','ATO','ATR','ATU','ATVI','ATW','AVA','AVB','AVGO','AVP','AVT','AVY','AWH','AWI','AWK','AXL','AXP','AXS','AXTA','AYI','AZO','AZPN','BA','BABY','BAC','BAH','BANC','BANR','BAP','BAX','BBBY','BBT','BBY','BC','BCO','BCR','BDC','BDN','BDX','BECN','BEN','BERY','BFAM','BG','BGCP','BGS','BHI','BID','BIG','BIIB','BIO','BJRI','BK','BKD','BKE','BKH','BKU','BLDR','BLK','BLKB','BLL','BLMN','BLUE','BMRN','BMS','BMY','BOBE','BOFI','BOH','BOKF','BPOP','BR','BRCD','BRKR','BRO','BRX','BSFT','BSX','BURL','BWA','BWLD','BWXT','BXMT','BXP','BXS','BYD','C','CA','CAA','CAB','CACC','CACI','CAG','CAH','CAKE','CALM','CAR','CARA','CASY','CAT','CATM','CATY','CAVM','CB','CBG','CBI','CBL','CBM','CBOE','CBPO','CBRL','CBS','CBSH','CBT','CCE','CCI','CCK','CCL','CCOI','CDE','CDK','CDNS','CDW','CE','CEF','CELG','CENX','CERN','CF','CFG','CFR','CFX','CGNX','CHD','CHDN','CHE','CHFC','CHH','CHK','CHKP','CHRS','CHRW','CHS','CHTR','CI','CIEN','CIM','CINF','CIT','CL','CLB','CLF','CLGX','CLH','CLI','CLNS','CLR','CLVS','CLX','CMA','CMC','CMD','CME','CMG','CMI','CMP','CMPR','CMS','CNC','CNK','CNO','CNP','CNX','COF','COG','COH','COHR','COL','COLB','COLM','COMM','CONE','COO','COP','COR','CORE','COST','COTY','CPA','CPB','CPE','CPN','CPRT','CPS','CPT','CR','CRAY','CRC','CREE','CRI','CRL','CRM','CRS','CRUS','CRZO','CSCO','CSGP','CSIQ','CSL','CSOD','CST','CSTE','CSX','CTAS','CTB','CTL','CTLT','CTSH','CTXS','CUBE','CUDA','CUZ','CVA','CVG','CVGW','CVI','CVLT','CVS','CVX','CW','CXO','CXP','CXW','CY','CYBR','CYH','CYS','CZZ','D','DAL','DAN','DAR','DATA','DBD','DCI','DCT','DD','DDD','DDR','DDS','DE','DECK','DEI','DEPO','DF','DFS','DFT','DG','DGI','DGX','DHI','DHR','DIN','DIS','DISH','DK','DKS','DLB','DLPH','DLR','DLTR','DLX','DNB','DNKN','DNOW','DNR','DO','DOC','DOOR','DOV','DOW','DOX','DPLO','DPS','DPZ','DRE','DRH','DRI','DRQ','DST','DSW','DTE','DUK','DV','DVA','DVN','DXC','DXCM','DY','DYN','EA','EAT','EBAY','EBIX','EBS','ECL','ED','EDR','EEFT','EFII','EFX','EGN','EGP','EGRX','EIX','EL','ELGX','ELLI','ELS','ELY','EME','EMN','EMR','ENDP','ENS','ENTG','EOG','EPAM','EPC','EPE','EPR','EQC','EQIX','EQR','EQT','ES','ESL','ESNT','ESPR','ESRT','ESRX','ESS','ESV','ETFC','ETN','ETR','EV','EVER','EVR','EW','EWBC','EXAS','EXC','EXEL','EXP','EXPD','EXPE','EXPR','EXR','F','FAF','FANG','FAST','FB','FBHS','FCB','FCFS','FCH','FCX','FDP','FDS','FDX','FE','FET','FEYE','FFIV','FHN','FI','FICO','FII','FINL','FIS','FISV','FITB','FIVE','FIZZ','FL','FLEX','FLIR','FLO','FLR','FLS','FLT','FMBI','FMC','FMSA','FN','FNB','FNSR','FOLD','FOSL','FOXA','FPRX','FR','FRAN','FRC','FRED','FRGI','FRT','FSLR','FTK','FTNT','FTR','FUL','FULT','G','GATX','GBX','GCO','GD','GE','GEO','GES','GGG','GGP','GHL','GIII','GILD','GIMO','GIS','GLNG','GLPI','GLW','GME','GMED','GNC','GNRC','GNTX','GNW','GOGO','GOV','GPC','GPI','GPK','GPN','GPOR','GPRE','GPRO','GPS','GPT','GRA','GRMN','GRPN','GRUB','GS','GT','GVA','GWB','GWR','GWRE','GWW','GXP','H','HA','HAE','HAIN','HAL','HALO','HAS','HAWK','HBAN','HBHC','HBI','HCA','HCN','HCP','HCSG','HD','HDS','HE','HELE','HES','HFC','HHC','HIBB','HIG','HII','HIW','HL','HLF','HLS','HLT','HLX','HMHC','HOG','HOLX','HOMB','HON','HOPE','HP','HPP','HPQ','HPT','HQY','HR','HRB','HRC','HRG','HRL','HRS','HRTX','HSIC','HSNI','HST','HSY','HTA','HTLD','HUBB','HUBS','HUM','HUN','HW','HXL','HYH','HZNP','IAC','IART','IBKC','IBKR','IBM','ICE','ICLR','ICPT','ICUI','IDA','IDCC','IDTI','IDXX','IEX','IFF','IGT','IIVI','ILG','ILMN','IMAX','IMMU','IMPV','INCR','INCY','INFN','INFO','INGN','INGR','INSY','INT','INTC','INTU','INVN','INXN','IONS','IP','IPG','IPGP','IPHI','IPXL','IR','IRBT','IRM','IRWD','ISBC','ISRG','IT','ITCI','ITRI','ITT','ITW','IVR','IVZ','JACK','JAZZ','JBHT','JBL','JBLU','JBT','JCI','JCOM','JCP','JEC','JKHY','JLL','JNJ','JNPR','JNS','JPM','JUNO','JWN','K','KALU','KAR','KATE','KBH','KBR','KCG','KEX','KEY','KEYS','KFY','KIM','KITE','KLAC','KLXI','KMB','KMI','KMT','KMX','KN','KNX','KO','KORS','KOS','KR','KRA','KRC','KRG','KS','KSS','KSU','L','LAD','LAMR','LAZ','LB','LC','LCI','LCII','LDOS','LEA','LECO','LEG','LEN','LFUS','LGIH','LGND','LH','LHO','LII','LJPC','LKQ','LL','LLL','LLY','LM','LMT','LNC','LNCE','LNG','LNT','LOGI','LOGM','LOPE','LOW','LPI','LPLA','LPNT','LPT','LPX','LQ','LRCX','LSCC','LSI','LSTR','LUK','LULU','LUV','LVLT','LVS','LXFT','LXP','LXRX','LYB','LYV','LZB','M','MA','MAA','MAC','MAN','MANH','MAR','MAS','MASI','MAT','MBFI','MBI','MBLY','MCD','MCHP','MCK','MCO','MD','MDC','MDCO','MDLZ','MDP','MDR','MDRX','MDSO','MDT','MDU','MELI','MET','MFA','MGLN','MGM','MHK','MIC','MIDD','MIK','MJN','MKC','MKL','MKSI','MKTX','MLHR','MLM','MLNX','MMC','MMM','MMS','MMYT','MNK','MNRO','MNST','MO','MOH','MON','MOS','MPC','MPW','MPWR','MRC','MRCY','MRK','MRO','MRVL','MS','MSCC','MSCI','MSFT','MSGN','MSI','MSM','MSTR','MTB','MTD','MTDR','MTG','MTH','MTN','MTOR','MTSI','MTW','MTX','MTZ','MU','MUR','MUSA','MUX','MWA','MXIM','MXL','MYGN','MYL','NAT','NATI','NAV','NAVI','NBIX','NBL','NBR','NCLH','NCR','NDAQ','NDSN','NE','NEE','NEM','NEWR','NFG','NFLX','NFX','NHI','NI','NJR','NKE','NKTR','NLSN','NLY','NNN','NOC','NOV','NOW','NRG','NRZ','NSC','NSP','NSR','NTAP','NTCT','NTGR','NTRI','NTRS','NUAN','NUE','NUS','NUVA','NVDA','NVR','NVRO','NWE','NWL','NWSA','NXST','NXTM','NYCB','NYRT','O','OAS','OC','OCLR','ODFL','ODP','OFC','OGE','OGS','OHI','OI','OII','OIS','OKE','OLED','OLN','OMC','OMF','OMI','ON','ONB','OPK','ORCL','ORI','ORLY','OSIS','OSK','OUT','OXM','OXY','OZRK','P','PACW','PAG','PAH','PANW','PAY','PAYC','PAYX','PB','PBCT','PBF','PBH','PBI','PBYI','PCAR','PCG','PCH','PCLN','PCRX','PCTY','PDCE','PDCO','PDM','PE','PEB','PEG','PEGA','PEGI','PENN','PEP','PF','PFE','PFG','PFPT','PG','PGNX','PGR','PGRE','PH','PHM','PII','PINC','PIR','PKG','PKI','PLAY','PLCE','PLD','PM','PNC','PNFP','PNM','PNR','PNRA','PNW','PODD','POL','POOL','POR','POST','PPC','PPG','PPL','PRAA','PRAH','PRGO','PRI','PRLB','PRTA','PRU','PRXL','PSA','PSEC','PSX','PTC','PTCT','PTEN','PTLA','PVH','PVTB','PWR','PX','PXD','PZZA','Q','QCOM','QEP','QGEN','QLYS','QTS','QVCA','R','RAD','RAI','RARE','RBC','RCII','RCL','RDC','RDN','RDUS','RE','REG','REGN','REN','RES','RF','RGA','RGC','RGLD','RGR','RH','RHI','RHP','RHT','RICE','RIG','RJF','RL','RLGY','RLJ','RMD','RNG','RNR','ROIC','ROK','ROL','ROP','ROST','RP','RPAI','RPM','RPT','RRC','RRD','RRGB','RS','RSG','RSPP','RTN','RTRX','RXN','RYN','S','SABR','SAFM','SAGE','SAIC','SAM','SANM','SAVE','SBAC','SBGI','SBH','SBNY','SBRA','SBUX','SC','SCCO','SCG','SCHW','SCI','SCS','SCSS','SEAS','SEE','SEIC','SEM','SEMG','SERV','SF','SFL','SFLY','SFM','SFR','SGEN','SGMS','SGYP','SHLD','SHO','SHOO','SHW','SIG','SINA','SIRI','SIVB','SIX','SJI','SJM','SKT','SKX','SKYW','SLAB','SLB','SLCA','SLG','SLGN','SLM','SM','SMG','SMTC','SN','SNA','SNCR','SNH','SNI','SNPS','SNV','SNX','SO','SODA','SON','SONC','SPB','SPG','SPGI','SPLK','SPLS','SPN','SPR','SPWR','SR','SRC','SRCI','SRCL','SRE','SRPT','SSNC','SSTK','SSYS','STAG','STAY','STE','STI','STL','STLD','STMP','STNG','STOR','STRP','STT','STWD','STX','STZ','SUI','SUPN','SVU','SWFT','SWK','SWKS','SWN','SWX','SXT','SYF','SYK','SYMC','SYNA','SYNT','SYY','T','TAP','TARO','TCB','TCBI','TCO','TDC','TDG','TDS','TDY','TECD','TECH','TEL','TEN','TER','TERP','TEX','TFX','TGI','TGNA','TGT','TGTX','THC','THG','THO','THRM','THS','TIF','TIME','TIVO','TJX','TK','TKR','TLRD','TMHC','TMK','TMO','TMUS','TOL','TPC','TPH','TPX','TRCO','TREE','TREX','TRGP','TRIP','TRMB','TRN','TROW','TROX','TRUE','TRV','TSCO','TSE','TSLA','TSN','TSO','TSRO','TSS','TTC','TTEK','TTMI','TTWO','TUP','TVPT','TVTY','TWO','TWOU','TWTR','TWX','TXMD','TXN','TXRH','TXT','TYL','UAA','UAL','UBNT','UBSI','UCBI','UDR','UFS','UGI','UHAL','UHS','ULTA','ULTI','UMBF','UMPQ','UNF','UNFI','UNH','UNM','UNP','UNT','UPS','URBN','URI','USB','USCR','USG','UTHR','UTX','UVV','V','VAC','VAL','VAR','VC','VEEV','VER','VFC','VG','VGR','VIAV','VLO','VLY','VMC','VMI','VMW','VNO','VNTV','VOYA','VR','VRNT','VRSK','VRSN','VRTX','VSAT','VSH','VTR','VVC','VWR','VZ','W','WAB','WAFD','WAGE','WAL','WAT','WBA','WBC','WBMD','WBS','WCC','WCG','WCN','WDAY','WDC','WDR','WEC','WEN','WERN','WETF','WEX','WFC','WFM','WFT','WGL','WGO','WHR','WIN','WIX','WLK','WLL','WM','WMB','WMGI','WMT','WNC','WNR','WOOF','WOR','WPC','WPG','WPX','WR','WRB','WRE','WRI','WSM','WSO','WST','WTFC','WTR','WTW','WU','WWD','WWW','WY','WYN','WYNN','X','XEC','XEL','XL','XLNX','XOM','XON','XPER','XPO','XRAY','XRX','XYL','Y','YELP','YHOO','YNDX','YUM','ZAYO','ZBH','ZBRA','ZEN','ZG','ZION','ZIOP','ZLTQ','ZNGA','ZTS']"
   ]
  },
  {
   "cell_type": "markdown",
   "metadata": {},
   "source": [
    "# RUN IF YOU WANT ONLY  <font color='red'>Only the first 5 stocks</font>, in orde to make it faster"
   ]
  },
  {
   "cell_type": "code",
   "execution_count": 22,
   "metadata": {},
   "outputs": [],
   "source": [
    "files = files[:5]"
   ]
  },
  {
   "cell_type": "code",
   "execution_count": 23,
   "metadata": {
    "collapsed": true
   },
   "outputs": [],
   "source": [
    "list_df = []\n",
    "df = pd.DataFrame(columns=['Stock', 'Date','Open','High','Low','Close','Volume','Adj Close','Close_norm'])"
   ]
  },
  {
   "cell_type": "markdown",
   "metadata": {},
   "source": [
    "# ToDo in this notebook\n",
    "1. Normalizar todas las series\n",
    "2. Eliminar stocks que tengan la máxima autocorrelación mayor a 5 lags\n",
    "3. Export the dataframe as one csv file"
   ]
  },
  {
   "cell_type": "markdown",
   "metadata": {},
   "source": [
    "## 1. Normalizing all series for each stock\n",
    "## 2. Removing stocks which have the greatest correlation greater than 5 lags"
   ]
  },
  {
   "cell_type": "code",
   "execution_count": 24,
   "metadata": {
    "collapsed": true
   },
   "outputs": [],
   "source": [
    "def normalize(serie):\n",
    "    min = serie.min()\n",
    "    max = serie.max()\n",
    "    return (serie-min)/(max-min)"
   ]
  },
  {
   "cell_type": "code",
   "execution_count": 25,
   "metadata": {
    "collapsed": true
   },
   "outputs": [],
   "source": [
    "#df_temp = pd.read_csv('dataset/A.csv')\n",
    "#df_temp.loc[:,['Open','High','Low','Close']] = df_temp.loc[:,['Open','High','Low','Close']].apply(axis=1, func=normalize)"
   ]
  },
  {
   "cell_type": "code",
   "execution_count": 26,
   "metadata": {},
   "outputs": [
    {
     "name": "stdout",
     "output_type": "stream",
     "text": [
      "In total there are 5355 entries and 0 stocks were removed\n"
     ]
    }
   ],
   "source": [
    "entries = 0\n",
    "discarded = 0\n",
    "for name in files:\n",
    "    corr = list();\n",
    "    df_temp = pd.read_csv('dataset/' + name + '.csv')\n",
    "    df_temp.loc[:,'Stock'] = name\n",
    "    if df_temp.shape[0] >=  90:\n",
    "        df_temp.loc[:,'Average'] = (df_temp['Open']+df_temp['High']+df_temp['Low']+df_temp['Close'])/4\n",
    "        df_temp.loc[df_temp.index != df_temp.index[0], 'Return'] = (df_temp.loc[:,'Close'].iloc[1:].reset_index(drop=True)/df_temp.loc[:,'Close'].iloc[:-1].reset_index(drop=True)-1).values\n",
    "        df_temp.loc[:,['Open','High','Low','Close','Average']] = df_temp.loc[:,['Open','High','Low','Close','Average']].apply(axis=0, func=normalize)\n",
    "        #%debug\n",
    "        #----- highest lag\n",
    "        for i in range(1,91):\n",
    "            corr.append(df_temp.loc[:,'Close'].autocorr(i))\n",
    "        # if highest lag is lower than 6:\n",
    "        if corr.index(max(corr)) + 1 <= 5 :\n",
    "            #Add max and min corre between 1-5 days\n",
    "            df_temp.loc[:,'Max'] = corr.index(max(corr)) + 1\n",
    "            df_temp.loc[:,'Min'] = corr.index(sorted(corr[:5], reverse=True)[4])+1\n",
    "            \n",
    "            list_df.append(df_temp)\n",
    "        else:\n",
    "            discarded += 1\n",
    "        entries += df_temp.shape[0]\n",
    "        #----- end\n",
    "    else:\n",
    "        discarded += 1\n",
    "    \n",
    "bip()\n",
    "print(\"In total there are %i entries and %i stocks were removed\" % (entries, discarded))"
   ]
  },
  {
   "cell_type": "code",
   "execution_count": 27,
   "metadata": {
    "collapsed": true
   },
   "outputs": [],
   "source": [
    "df = pd.concat(list_df)"
   ]
  },
  {
   "cell_type": "code",
   "execution_count": 28,
   "metadata": {},
   "outputs": [
    {
     "data": {
      "text/plain": [
       "count    5355.0\n",
       "mean        5.0\n",
       "std         0.0\n",
       "min         5.0\n",
       "25%         5.0\n",
       "50%         5.0\n",
       "75%         5.0\n",
       "max         5.0\n",
       "Name: Min, dtype: float64"
      ]
     },
     "execution_count": 28,
     "metadata": {},
     "output_type": "execute_result"
    }
   ],
   "source": [
    "df.Min.describe()"
   ]
  },
  {
   "cell_type": "code",
   "execution_count": 29,
   "metadata": {},
   "outputs": [
    {
     "data": {
      "text/plain": [
       "count    5350.000000\n",
       "mean        0.000583\n",
       "std         0.037168\n",
       "min        -0.344561\n",
       "25%        -0.013466\n",
       "50%         0.000000\n",
       "75%         0.013032\n",
       "max         0.587361\n",
       "Name: Return, dtype: float64"
      ]
     },
     "execution_count": 29,
     "metadata": {},
     "output_type": "execute_result"
    }
   ],
   "source": [
    "df['Return'].describe()"
   ]
  },
  {
   "cell_type": "markdown",
   "metadata": {},
   "source": [
    "## Adding day"
   ]
  },
  {
   "cell_type": "code",
   "execution_count": 30,
   "metadata": {
    "collapsed": true
   },
   "outputs": [],
   "source": [
    "df.loc[:,'Date'] = pd.to_datetime(df.loc[:,'Date'])\n",
    "df.loc[:,'Day'] = df.loc[:,'Date'].dt.dayofweek/6"
   ]
  },
  {
   "cell_type": "markdown",
   "metadata": {},
   "source": [
    "## Categorizing Return"
   ]
  },
  {
   "cell_type": "code",
   "execution_count": 31,
   "metadata": {},
   "outputs": [
    {
     "data": {
      "text/html": [
       "<div>\n",
       "<style>\n",
       "    .dataframe thead tr:only-child th {\n",
       "        text-align: right;\n",
       "    }\n",
       "\n",
       "    .dataframe thead th {\n",
       "        text-align: left;\n",
       "    }\n",
       "\n",
       "    .dataframe tbody tr th {\n",
       "        vertical-align: top;\n",
       "    }\n",
       "</style>\n",
       "<table border=\"1\" class=\"dataframe\">\n",
       "  <thead>\n",
       "    <tr style=\"text-align: right;\">\n",
       "      <th></th>\n",
       "      <th>Date</th>\n",
       "      <th>Open</th>\n",
       "      <th>High</th>\n",
       "      <th>Low</th>\n",
       "      <th>Close</th>\n",
       "      <th>Volume</th>\n",
       "      <th>Adj Close</th>\n",
       "      <th>Stock</th>\n",
       "      <th>Average</th>\n",
       "      <th>Return</th>\n",
       "      <th>Max</th>\n",
       "      <th>Min</th>\n",
       "      <th>Day</th>\n",
       "      <th>y</th>\n",
       "    </tr>\n",
       "  </thead>\n",
       "  <tbody>\n",
       "    <tr>\n",
       "      <th>0</th>\n",
       "      <td>2006-01-03</td>\n",
       "      <td>0.710553</td>\n",
       "      <td>0.707904</td>\n",
       "      <td>0.705324</td>\n",
       "      <td>0.714383</td>\n",
       "      <td>5307000</td>\n",
       "      <td>21.399132</td>\n",
       "      <td>A</td>\n",
       "      <td>0.711972</td>\n",
       "      <td>NaN</td>\n",
       "      <td>1</td>\n",
       "      <td>5</td>\n",
       "      <td>0.166667</td>\n",
       "      <td>NaN</td>\n",
       "    </tr>\n",
       "    <tr>\n",
       "      <th>1</th>\n",
       "      <td>2006-01-04</td>\n",
       "      <td>0.715643</td>\n",
       "      <td>0.716495</td>\n",
       "      <td>0.723974</td>\n",
       "      <td>0.717436</td>\n",
       "      <td>4195800</td>\n",
       "      <td>21.456621</td>\n",
       "      <td>A</td>\n",
       "      <td>0.720884</td>\n",
       "      <td>0.002687</td>\n",
       "      <td>1</td>\n",
       "      <td>5</td>\n",
       "      <td>0.333333</td>\n",
       "      <td>2.0</td>\n",
       "    </tr>\n",
       "    <tr>\n",
       "      <th>2</th>\n",
       "      <td>2006-01-05</td>\n",
       "      <td>0.712250</td>\n",
       "      <td>0.738488</td>\n",
       "      <td>0.726687</td>\n",
       "      <td>0.747286</td>\n",
       "      <td>4835400</td>\n",
       "      <td>22.018748</td>\n",
       "      <td>A</td>\n",
       "      <td>0.733739</td>\n",
       "      <td>0.026198</td>\n",
       "      <td>1</td>\n",
       "      <td>5</td>\n",
       "      <td>0.500000</td>\n",
       "      <td>3.0</td>\n",
       "    </tr>\n",
       "    <tr>\n",
       "      <th>3</th>\n",
       "      <td>2006-01-06</td>\n",
       "      <td>0.747879</td>\n",
       "      <td>0.749485</td>\n",
       "      <td>0.748389</td>\n",
       "      <td>0.753392</td>\n",
       "      <td>6146300</td>\n",
       "      <td>22.133729</td>\n",
       "      <td>A</td>\n",
       "      <td>0.752507</td>\n",
       "      <td>0.005222</td>\n",
       "      <td>1</td>\n",
       "      <td>5</td>\n",
       "      <td>0.666667</td>\n",
       "      <td>2.0</td>\n",
       "    </tr>\n",
       "    <tr>\n",
       "      <th>4</th>\n",
       "      <td>2006-01-09</td>\n",
       "      <td>0.752969</td>\n",
       "      <td>0.749828</td>\n",
       "      <td>0.759580</td>\n",
       "      <td>0.750000</td>\n",
       "      <td>4082800</td>\n",
       "      <td>22.069850</td>\n",
       "      <td>A</td>\n",
       "      <td>0.755849</td>\n",
       "      <td>-0.002886</td>\n",
       "      <td>1</td>\n",
       "      <td>5</td>\n",
       "      <td>0.000000</td>\n",
       "      <td>2.0</td>\n",
       "    </tr>\n",
       "  </tbody>\n",
       "</table>\n",
       "</div>"
      ],
      "text/plain": [
       "        Date      Open      High       Low     Close   Volume  Adj Close  \\\n",
       "0 2006-01-03  0.710553  0.707904  0.705324  0.714383  5307000  21.399132   \n",
       "1 2006-01-04  0.715643  0.716495  0.723974  0.717436  4195800  21.456621   \n",
       "2 2006-01-05  0.712250  0.738488  0.726687  0.747286  4835400  22.018748   \n",
       "3 2006-01-06  0.747879  0.749485  0.748389  0.753392  6146300  22.133729   \n",
       "4 2006-01-09  0.752969  0.749828  0.759580  0.750000  4082800  22.069850   \n",
       "\n",
       "  Stock   Average    Return  Max  Min       Day    y  \n",
       "0     A  0.711972       NaN    1    5  0.166667  NaN  \n",
       "1     A  0.720884  0.002687    1    5  0.333333  2.0  \n",
       "2     A  0.733739  0.026198    1    5  0.500000  3.0  \n",
       "3     A  0.752507  0.005222    1    5  0.666667  2.0  \n",
       "4     A  0.755849 -0.002886    1    5  0.000000  2.0  "
      ]
     },
     "execution_count": 31,
     "metadata": {},
     "output_type": "execute_result"
    }
   ],
   "source": [
    "df.loc[df['Return'] < -0.03,'y'] = 0\n",
    "df.loc[(df['Return'] >= -0.03) & (df['Return'] <-0.01),'y'] = 1\n",
    "df.loc[(df['Return'] >= -0.01) & (df['Return'] <0.01),'y'] = 2\n",
    "df.loc[(df['Return'] >= 0.01) & (df['Return'] <0.03),'y'] = 3\n",
    "df.loc[df['Return'] >= 0.03,'y'] = 4\n",
    "df.head()"
   ]
  },
  {
   "cell_type": "code",
   "execution_count": 32,
   "metadata": {
    "collapsed": true
   },
   "outputs": [],
   "source": [
    "bip()"
   ]
  },
  {
   "cell_type": "markdown",
   "metadata": {},
   "source": [
    "## Exporting file"
   ]
  },
  {
   "cell_type": "code",
   "execution_count": 33,
   "metadata": {
    "collapsed": true
   },
   "outputs": [],
   "source": [
    "df.to_csv('dataset.csv', index=False)"
   ]
  },
  {
   "cell_type": "code",
   "execution_count": 34,
   "metadata": {
    "collapsed": true
   },
   "outputs": [],
   "source": [
    "bip()"
   ]
  },
  {
   "cell_type": "code",
   "execution_count": null,
   "metadata": {
    "collapsed": true
   },
   "outputs": [],
   "source": []
  }
 ],
 "metadata": {
  "kernelspec": {
   "display_name": "Python 3",
   "language": "python",
   "name": "python3"
  },
  "language_info": {
   "codemirror_mode": {
    "name": "ipython",
    "version": 3
   },
   "file_extension": ".py",
   "mimetype": "text/x-python",
   "name": "python",
   "nbconvert_exporter": "python",
   "pygments_lexer": "ipython3",
   "version": "3.5.2"
  }
 },
 "nbformat": 4,
 "nbformat_minor": 2
}
