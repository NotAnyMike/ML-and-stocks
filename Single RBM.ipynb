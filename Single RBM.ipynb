{
 "cells": [
  {
   "cell_type": "code",
   "execution_count": 97,
   "metadata": {
    "collapsed": true
   },
   "outputs": [],
   "source": [
    "import pandas as pd\n",
    "import numpy as np\n",
    "from sklearn.neural_network import BernoulliRBM, MLPClassifier\n",
    "from sklearn.linear_model import LogisticRegression, LinearRegression\n",
    "from sklearn.pipeline import Pipeline"
   ]
  },
  {
   "cell_type": "markdown",
   "metadata": {},
   "source": [
    "# Reading file"
   ]
  },
  {
   "cell_type": "code",
   "execution_count": 2,
   "metadata": {
    "collapsed": true
   },
   "outputs": [],
   "source": [
    "df = pd.read_csv('dataset.csv')"
   ]
  },
  {
   "cell_type": "code",
   "execution_count": 3,
   "metadata": {
    "collapsed": true
   },
   "outputs": [],
   "source": [
    "df = df[df.Stock == 'A']"
   ]
  },
  {
   "cell_type": "code",
   "execution_count": 4,
   "metadata": {},
   "outputs": [
    {
     "data": {
      "text/html": [
       "<div>\n",
       "<style>\n",
       "    .dataframe thead tr:only-child th {\n",
       "        text-align: right;\n",
       "    }\n",
       "\n",
       "    .dataframe thead th {\n",
       "        text-align: left;\n",
       "    }\n",
       "\n",
       "    .dataframe tbody tr th {\n",
       "        vertical-align: top;\n",
       "    }\n",
       "</style>\n",
       "<table border=\"1\" class=\"dataframe\">\n",
       "  <thead>\n",
       "    <tr style=\"text-align: right;\">\n",
       "      <th></th>\n",
       "      <th>Open</th>\n",
       "      <th>High</th>\n",
       "      <th>Low</th>\n",
       "      <th>Close</th>\n",
       "      <th>Volume</th>\n",
       "      <th>Adj Close</th>\n",
       "      <th>Average</th>\n",
       "      <th>Return</th>\n",
       "      <th>Max</th>\n",
       "      <th>Min</th>\n",
       "      <th>Day</th>\n",
       "      <th>y</th>\n",
       "    </tr>\n",
       "  </thead>\n",
       "  <tbody>\n",
       "    <tr>\n",
       "      <th>count</th>\n",
       "      <td>1259.000000</td>\n",
       "      <td>1259.000000</td>\n",
       "      <td>1259.000000</td>\n",
       "      <td>1259.000000</td>\n",
       "      <td>1.259000e+03</td>\n",
       "      <td>1259.000000</td>\n",
       "      <td>1259.000000</td>\n",
       "      <td>1258.000000</td>\n",
       "      <td>1259.0</td>\n",
       "      <td>1259.0</td>\n",
       "      <td>1259.000000</td>\n",
       "      <td>1258.000000</td>\n",
       "    </tr>\n",
       "    <tr>\n",
       "      <th>mean</th>\n",
       "      <td>0.622552</td>\n",
       "      <td>0.626594</td>\n",
       "      <td>0.624178</td>\n",
       "      <td>0.624213</td>\n",
       "      <td>4.357144e+06</td>\n",
       "      <td>20.688205</td>\n",
       "      <td>0.626183</td>\n",
       "      <td>0.000429</td>\n",
       "      <td>1.0</td>\n",
       "      <td>5.0</td>\n",
       "      <td>0.336643</td>\n",
       "      <td>2.018283</td>\n",
       "    </tr>\n",
       "    <tr>\n",
       "      <th>std</th>\n",
       "      <td>0.220899</td>\n",
       "      <td>0.223228</td>\n",
       "      <td>0.221613</td>\n",
       "      <td>0.221125</td>\n",
       "      <td>2.021792e+06</td>\n",
       "      <td>4.335443</td>\n",
       "      <td>0.223169</td>\n",
       "      <td>0.022797</td>\n",
       "      <td>0.0</td>\n",
       "      <td>0.0</td>\n",
       "      <td>0.233183</td>\n",
       "      <td>0.962536</td>\n",
       "    </tr>\n",
       "    <tr>\n",
       "      <th>min</th>\n",
       "      <td>0.000000</td>\n",
       "      <td>0.000000</td>\n",
       "      <td>0.000000</td>\n",
       "      <td>0.000000</td>\n",
       "      <td>9.693000e+05</td>\n",
       "      <td>8.433733</td>\n",
       "      <td>0.000000</td>\n",
       "      <td>-0.108450</td>\n",
       "      <td>1.0</td>\n",
       "      <td>5.0</td>\n",
       "      <td>0.000000</td>\n",
       "      <td>0.000000</td>\n",
       "    </tr>\n",
       "    <tr>\n",
       "      <th>25%</th>\n",
       "      <td>0.540210</td>\n",
       "      <td>0.543814</td>\n",
       "      <td>0.537979</td>\n",
       "      <td>0.538331</td>\n",
       "      <td>3.036550e+06</td>\n",
       "      <td>19.033525</td>\n",
       "      <td>0.542720</td>\n",
       "      <td>-0.009621</td>\n",
       "      <td>1.0</td>\n",
       "      <td>5.0</td>\n",
       "      <td>0.166667</td>\n",
       "      <td>2.000000</td>\n",
       "    </tr>\n",
       "    <tr>\n",
       "      <th>50%</th>\n",
       "      <td>0.676960</td>\n",
       "      <td>0.682818</td>\n",
       "      <td>0.678196</td>\n",
       "      <td>0.679444</td>\n",
       "      <td>3.967500e+06</td>\n",
       "      <td>21.728388</td>\n",
       "      <td>0.681292</td>\n",
       "      <td>0.001001</td>\n",
       "      <td>1.0</td>\n",
       "      <td>5.0</td>\n",
       "      <td>0.333333</td>\n",
       "      <td>2.000000</td>\n",
       "    </tr>\n",
       "    <tr>\n",
       "      <th>75%</th>\n",
       "      <td>0.781812</td>\n",
       "      <td>0.790378</td>\n",
       "      <td>0.782299</td>\n",
       "      <td>0.782734</td>\n",
       "      <td>5.117300e+06</td>\n",
       "      <td>23.824879</td>\n",
       "      <td>0.786014</td>\n",
       "      <td>0.011127</td>\n",
       "      <td>1.0</td>\n",
       "      <td>5.0</td>\n",
       "      <td>0.500000</td>\n",
       "      <td>3.000000</td>\n",
       "    </tr>\n",
       "    <tr>\n",
       "      <th>max</th>\n",
       "      <td>1.000000</td>\n",
       "      <td>1.000000</td>\n",
       "      <td>1.000000</td>\n",
       "      <td>1.000000</td>\n",
       "      <td>2.068870e+07</td>\n",
       "      <td>28.419782</td>\n",
       "      <td>1.000000</td>\n",
       "      <td>0.138790</td>\n",
       "      <td>1.0</td>\n",
       "      <td>5.0</td>\n",
       "      <td>0.666667</td>\n",
       "      <td>4.000000</td>\n",
       "    </tr>\n",
       "  </tbody>\n",
       "</table>\n",
       "</div>"
      ],
      "text/plain": [
       "              Open         High          Low        Close        Volume  \\\n",
       "count  1259.000000  1259.000000  1259.000000  1259.000000  1.259000e+03   \n",
       "mean      0.622552     0.626594     0.624178     0.624213  4.357144e+06   \n",
       "std       0.220899     0.223228     0.221613     0.221125  2.021792e+06   \n",
       "min       0.000000     0.000000     0.000000     0.000000  9.693000e+05   \n",
       "25%       0.540210     0.543814     0.537979     0.538331  3.036550e+06   \n",
       "50%       0.676960     0.682818     0.678196     0.679444  3.967500e+06   \n",
       "75%       0.781812     0.790378     0.782299     0.782734  5.117300e+06   \n",
       "max       1.000000     1.000000     1.000000     1.000000  2.068870e+07   \n",
       "\n",
       "         Adj Close      Average       Return     Max     Min          Day  \\\n",
       "count  1259.000000  1259.000000  1258.000000  1259.0  1259.0  1259.000000   \n",
       "mean     20.688205     0.626183     0.000429     1.0     5.0     0.336643   \n",
       "std       4.335443     0.223169     0.022797     0.0     0.0     0.233183   \n",
       "min       8.433733     0.000000    -0.108450     1.0     5.0     0.000000   \n",
       "25%      19.033525     0.542720    -0.009621     1.0     5.0     0.166667   \n",
       "50%      21.728388     0.681292     0.001001     1.0     5.0     0.333333   \n",
       "75%      23.824879     0.786014     0.011127     1.0     5.0     0.500000   \n",
       "max      28.419782     1.000000     0.138790     1.0     5.0     0.666667   \n",
       "\n",
       "                 y  \n",
       "count  1258.000000  \n",
       "mean      2.018283  \n",
       "std       0.962536  \n",
       "min       0.000000  \n",
       "25%       2.000000  \n",
       "50%       2.000000  \n",
       "75%       3.000000  \n",
       "max       4.000000  "
      ]
     },
     "execution_count": 4,
     "metadata": {},
     "output_type": "execute_result"
    }
   ],
   "source": [
    "df.describe()"
   ]
  },
  {
   "cell_type": "code",
   "execution_count": 5,
   "metadata": {},
   "outputs": [
    {
     "data": {
      "text/html": [
       "<div>\n",
       "<style>\n",
       "    .dataframe thead tr:only-child th {\n",
       "        text-align: right;\n",
       "    }\n",
       "\n",
       "    .dataframe thead th {\n",
       "        text-align: left;\n",
       "    }\n",
       "\n",
       "    .dataframe tbody tr th {\n",
       "        vertical-align: top;\n",
       "    }\n",
       "</style>\n",
       "<table border=\"1\" class=\"dataframe\">\n",
       "  <thead>\n",
       "    <tr style=\"text-align: right;\">\n",
       "      <th></th>\n",
       "      <th>Date</th>\n",
       "      <th>Open</th>\n",
       "      <th>High</th>\n",
       "      <th>Low</th>\n",
       "      <th>Close</th>\n",
       "      <th>Volume</th>\n",
       "      <th>Adj Close</th>\n",
       "      <th>Stock</th>\n",
       "      <th>Average</th>\n",
       "      <th>Return</th>\n",
       "      <th>Max</th>\n",
       "      <th>Min</th>\n",
       "      <th>Day</th>\n",
       "      <th>y</th>\n",
       "    </tr>\n",
       "  </thead>\n",
       "  <tbody>\n",
       "    <tr>\n",
       "      <th>0</th>\n",
       "      <td>2006-01-03</td>\n",
       "      <td>0.710553</td>\n",
       "      <td>0.707904</td>\n",
       "      <td>0.705324</td>\n",
       "      <td>0.714383</td>\n",
       "      <td>5307000</td>\n",
       "      <td>21.399132</td>\n",
       "      <td>A</td>\n",
       "      <td>0.711972</td>\n",
       "      <td>NaN</td>\n",
       "      <td>1</td>\n",
       "      <td>5</td>\n",
       "      <td>0.166667</td>\n",
       "      <td>NaN</td>\n",
       "    </tr>\n",
       "    <tr>\n",
       "      <th>1</th>\n",
       "      <td>2006-01-04</td>\n",
       "      <td>0.715643</td>\n",
       "      <td>0.716495</td>\n",
       "      <td>0.723974</td>\n",
       "      <td>0.717436</td>\n",
       "      <td>4195800</td>\n",
       "      <td>21.456621</td>\n",
       "      <td>A</td>\n",
       "      <td>0.720884</td>\n",
       "      <td>0.002687</td>\n",
       "      <td>1</td>\n",
       "      <td>5</td>\n",
       "      <td>0.333333</td>\n",
       "      <td>2.0</td>\n",
       "    </tr>\n",
       "    <tr>\n",
       "      <th>2</th>\n",
       "      <td>2006-01-05</td>\n",
       "      <td>0.712250</td>\n",
       "      <td>0.738488</td>\n",
       "      <td>0.726687</td>\n",
       "      <td>0.747286</td>\n",
       "      <td>4835400</td>\n",
       "      <td>22.018748</td>\n",
       "      <td>A</td>\n",
       "      <td>0.733739</td>\n",
       "      <td>0.026198</td>\n",
       "      <td>1</td>\n",
       "      <td>5</td>\n",
       "      <td>0.500000</td>\n",
       "      <td>3.0</td>\n",
       "    </tr>\n",
       "    <tr>\n",
       "      <th>3</th>\n",
       "      <td>2006-01-06</td>\n",
       "      <td>0.747879</td>\n",
       "      <td>0.749485</td>\n",
       "      <td>0.748389</td>\n",
       "      <td>0.753392</td>\n",
       "      <td>6146300</td>\n",
       "      <td>22.133729</td>\n",
       "      <td>A</td>\n",
       "      <td>0.752507</td>\n",
       "      <td>0.005222</td>\n",
       "      <td>1</td>\n",
       "      <td>5</td>\n",
       "      <td>0.666667</td>\n",
       "      <td>2.0</td>\n",
       "    </tr>\n",
       "    <tr>\n",
       "      <th>4</th>\n",
       "      <td>2006-01-09</td>\n",
       "      <td>0.752969</td>\n",
       "      <td>0.749828</td>\n",
       "      <td>0.759580</td>\n",
       "      <td>0.750000</td>\n",
       "      <td>4082800</td>\n",
       "      <td>22.069850</td>\n",
       "      <td>A</td>\n",
       "      <td>0.755849</td>\n",
       "      <td>-0.002886</td>\n",
       "      <td>1</td>\n",
       "      <td>5</td>\n",
       "      <td>0.000000</td>\n",
       "      <td>2.0</td>\n",
       "    </tr>\n",
       "  </tbody>\n",
       "</table>\n",
       "</div>"
      ],
      "text/plain": [
       "         Date      Open      High       Low     Close   Volume  Adj Close  \\\n",
       "0  2006-01-03  0.710553  0.707904  0.705324  0.714383  5307000  21.399132   \n",
       "1  2006-01-04  0.715643  0.716495  0.723974  0.717436  4195800  21.456621   \n",
       "2  2006-01-05  0.712250  0.738488  0.726687  0.747286  4835400  22.018748   \n",
       "3  2006-01-06  0.747879  0.749485  0.748389  0.753392  6146300  22.133729   \n",
       "4  2006-01-09  0.752969  0.749828  0.759580  0.750000  4082800  22.069850   \n",
       "\n",
       "  Stock   Average    Return  Max  Min       Day    y  \n",
       "0     A  0.711972       NaN    1    5  0.166667  NaN  \n",
       "1     A  0.720884  0.002687    1    5  0.333333  2.0  \n",
       "2     A  0.733739  0.026198    1    5  0.500000  3.0  \n",
       "3     A  0.752507  0.005222    1    5  0.666667  2.0  \n",
       "4     A  0.755849 -0.002886    1    5  0.000000  2.0  "
      ]
     },
     "execution_count": 5,
     "metadata": {},
     "output_type": "execute_result"
    }
   ],
   "source": [
    "df.head()"
   ]
  },
  {
   "cell_type": "markdown",
   "metadata": {},
   "source": [
    "# X & Y"
   ]
  },
  {
   "cell_type": "code",
   "execution_count": 128,
   "metadata": {
    "collapsed": true
   },
   "outputs": [],
   "source": [
    "k=1 #Max lags\n",
    "\n",
    "X = pd.DataFrame()\n",
    "X.loc[:,'Day'] = df.loc[:,'Day'].iloc[0:-k].reset_index(drop=True)\n",
    "y = df['y'].iloc[k:].reset_index(drop=True)\n",
    "y2 = df['Return'].iloc[k:].reset_index(drop=True)\n",
    "\n",
    "for i in range(k):\n",
    "        X.loc[:,('Lag %i' % (i+1))] = df.loc[:,'Average'].iloc[k-1-i:-1-i].reset_index(drop=True)"
   ]
  },
  {
   "cell_type": "markdown",
   "metadata": {},
   "source": [
    "# X with Open, High, Low and Close"
   ]
  },
  {
   "cell_type": "code",
   "execution_count": 7,
   "metadata": {
    "collapsed": true
   },
   "outputs": [],
   "source": [
    "X = pd.DataFrame()\n",
    "X = df.loc[:,['Open','High','Low','Close']].iloc[0:-k].reset_index(drop=True)"
   ]
  },
  {
   "cell_type": "markdown",
   "metadata": {},
   "source": [
    "# X with 0 and 1 if increasing or not"
   ]
  },
  {
   "cell_type": "code",
   "execution_count": 134,
   "metadata": {
    "collapsed": true
   },
   "outputs": [],
   "source": [
    "X= pd.DataFrame(np.random.binomial(1,0.5,size=(y.shape[0],4)))"
   ]
  },
  {
   "cell_type": "markdown",
   "metadata": {},
   "source": [
    "# Spliting"
   ]
  },
  {
   "cell_type": "code",
   "execution_count": 135,
   "metadata": {
    "collapsed": true
   },
   "outputs": [],
   "source": [
    "split_var = int(X.shape[0]/4*3)\n",
    "X_train, X_test, y_train, y_test = [X.iloc[:split_var,:],X.iloc[split_var:,:],y.iloc[:split_var],y.iloc[split_var:]]"
   ]
  },
  {
   "cell_type": "code",
   "execution_count": 136,
   "metadata": {},
   "outputs": [
    {
     "data": {
      "text/html": [
       "<div>\n",
       "<style>\n",
       "    .dataframe thead tr:only-child th {\n",
       "        text-align: right;\n",
       "    }\n",
       "\n",
       "    .dataframe thead th {\n",
       "        text-align: left;\n",
       "    }\n",
       "\n",
       "    .dataframe tbody tr th {\n",
       "        vertical-align: top;\n",
       "    }\n",
       "</style>\n",
       "<table border=\"1\" class=\"dataframe\">\n",
       "  <thead>\n",
       "    <tr style=\"text-align: right;\">\n",
       "      <th></th>\n",
       "      <th>0</th>\n",
       "      <th>1</th>\n",
       "      <th>2</th>\n",
       "      <th>3</th>\n",
       "    </tr>\n",
       "  </thead>\n",
       "  <tbody>\n",
       "    <tr>\n",
       "      <th>0</th>\n",
       "      <td>0</td>\n",
       "      <td>0</td>\n",
       "      <td>0</td>\n",
       "      <td>1</td>\n",
       "    </tr>\n",
       "    <tr>\n",
       "      <th>1</th>\n",
       "      <td>1</td>\n",
       "      <td>1</td>\n",
       "      <td>1</td>\n",
       "      <td>1</td>\n",
       "    </tr>\n",
       "    <tr>\n",
       "      <th>2</th>\n",
       "      <td>0</td>\n",
       "      <td>0</td>\n",
       "      <td>0</td>\n",
       "      <td>1</td>\n",
       "    </tr>\n",
       "    <tr>\n",
       "      <th>3</th>\n",
       "      <td>1</td>\n",
       "      <td>0</td>\n",
       "      <td>1</td>\n",
       "      <td>0</td>\n",
       "    </tr>\n",
       "    <tr>\n",
       "      <th>4</th>\n",
       "      <td>0</td>\n",
       "      <td>1</td>\n",
       "      <td>1</td>\n",
       "      <td>1</td>\n",
       "    </tr>\n",
       "  </tbody>\n",
       "</table>\n",
       "</div>"
      ],
      "text/plain": [
       "   0  1  2  3\n",
       "0  0  0  0  1\n",
       "1  1  1  1  1\n",
       "2  0  0  0  1\n",
       "3  1  0  1  0\n",
       "4  0  1  1  1"
      ]
     },
     "execution_count": 136,
     "metadata": {},
     "output_type": "execute_result"
    }
   ],
   "source": [
    "X_train.head()"
   ]
  },
  {
   "cell_type": "code",
   "execution_count": 137,
   "metadata": {},
   "outputs": [
    {
     "data": {
      "text/plain": [
       "0    2.0\n",
       "1    3.0\n",
       "2    2.0\n",
       "3    2.0\n",
       "4    3.0\n",
       "Name: y, dtype: float64"
      ]
     },
     "execution_count": 137,
     "metadata": {},
     "output_type": "execute_result"
    }
   ],
   "source": [
    "y_train.head()"
   ]
  },
  {
   "cell_type": "markdown",
   "metadata": {},
   "source": [
    "# Table"
   ]
  },
  {
   "cell_type": "markdown",
   "metadata": {},
   "source": [
    "lags | C |n_iter| batch_size | hidden_units | learning_rate | Scr_training | Scr_test\n",
    "--- | --- | ---\n",
    "1|1|10|90|100 | .1 |0.479321314952|0.51746031746\n",
    "1|1|10|90|100| .01|0.479321314952|0.51746031746\n",
    "2|1|10|90|100| .01|0.478768577495|0.51746031746\n",
    "3|1|10|90|100|.01|0.478768577495|0.519108280255\n",
    "4|1|10|90|100|.01|0.47821466525|0.519108280255\n",
    "5|1|10|90|100|.01|0.477659574468|0.519108280255\n",
    "5|1|10|90|100|.001|0.477659574468|0.519108280255\n",
    "5|100|10|90|100|.001|0.479321314952|0.51746031746\n",
    "5|1000|10|90|100|.001|0.479321314952|0.51746031746"
   ]
  },
  {
   "cell_type": "markdown",
   "metadata": {},
   "source": [
    "# Running RBM-logistic"
   ]
  },
  {
   "cell_type": "code",
   "execution_count": 138,
   "metadata": {
    "collapsed": true
   },
   "outputs": [],
   "source": [
    "# for rbm\n",
    "learning_rate = 0.001\n",
    "hidden_units = 100\n",
    "batch_size = 90\n",
    "n_iter = 10\n",
    "\n",
    "# for logistic\n",
    "C = 100"
   ]
  },
  {
   "cell_type": "code",
   "execution_count": 139,
   "metadata": {},
   "outputs": [
    {
     "name": "stdout",
     "output_type": "stream",
     "text": [
      "Score for RBM-MLP\n",
      "score on training:  0.479321314952\n",
      "score on test:  0.51746031746\n",
      "\n",
      "Score for RBM-logistic\n",
      "score on training:  0.479321314952\n",
      "score on test:  0.51746031746\n",
      "\n",
      "Differences in the score between both models\n",
      "For training:  0.0\n",
      "For Testing:  0.0\n"
     ]
    }
   ],
   "source": [
    "logistic = LogisticRegression(C=C)\n",
    "mlp = MLPClassifier()\n",
    "rbm0 = BernoulliRBM(random_state=0, verbose=False)\n",
    "rbm1 = BernoulliRBM(random_state=0, verbose=False)\n",
    "\n",
    "classifier0 = Pipeline([('rbm', rbm0),('mlp',mlp)])\n",
    "classifier1 = Pipeline([('rbm', rbm1),('logistic',logistic)])\n",
    "\n",
    "rbm0.learning_rate = learning_rate\n",
    "rbm0.n_components=hidden_units\n",
    "rbm0.batch_size = batch_size\n",
    "rbm0.n_iter = n_iter\n",
    "rbm1.learning_rate = learning_rate\n",
    "rbm1.n_components=hidden_units\n",
    "rbm1.batch_size = batch_size\n",
    "rbm1.n_iter = n_iter\n",
    "\n",
    "mlp.hidden_layer_sizes = (100,)\n",
    "\n",
    "classifier0.fit(X=X_train, y=y_train);\n",
    "classifier1.fit(X=X_train, y=y_train);\n",
    "\n",
    "print(\"Score for RBM-MLP\")\n",
    "print(\"score on training: \",classifier0.score(X_train,y_train))\n",
    "print(\"score on test: \",classifier0.score(X_test,y_test))\n",
    "print(\"\\nScore for RBM-logistic\")\n",
    "print(\"score on training: \",classifier1.score(X_train,y_train))\n",
    "print(\"score on test: \",classifier1.score(X_test,y_test))\n",
    "print(\"\\nDifferences in the score between both models\")\n",
    "print(\"For training: \", classifier0.score(X_train,y_train)-classifier1.score(X_train,y_train))\n",
    "print(\"For Testing: \", classifier0.score(X_test,y_test)-classifier1.score(X_test,y_test))"
   ]
  },
  {
   "cell_type": "code",
   "execution_count": 117,
   "metadata": {},
   "outputs": [
    {
     "name": "stdout",
     "output_type": "stream",
     "text": [
      "score on training:  0.478260869565\n",
      "score on test:  0.51746031746\n"
     ]
    }
   ],
   "source": [
    "l = LogisticRegression(solver='newton-cg', multi_class='multinomial')\n",
    "l.fit(X_train,y_train);\n",
    "print(\"score on training: \",l.score(X_train,y_train))\n",
    "print(\"score on test: \",l.score(X_test,y_test))"
   ]
  },
  {
   "cell_type": "code",
   "execution_count": null,
   "metadata": {
    "collapsed": true
   },
   "outputs": [],
   "source": []
  }
 ],
 "metadata": {
  "kernelspec": {
   "display_name": "Python 3",
   "language": "python",
   "name": "python3"
  },
  "language_info": {
   "codemirror_mode": {
    "name": "ipython",
    "version": 3
   },
   "file_extension": ".py",
   "mimetype": "text/x-python",
   "name": "python",
   "nbconvert_exporter": "python",
   "pygments_lexer": "ipython3",
   "version": "3.5.2"
  }
 },
 "nbformat": 4,
 "nbformat_minor": 2
}
