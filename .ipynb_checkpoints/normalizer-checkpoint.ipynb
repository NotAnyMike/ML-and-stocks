{
 "cells": [
  {
   "cell_type": "markdown",
   "metadata": {},
   "source": [
    "# Exporting the files normalized"
   ]
  },
  {
   "cell_type": "code",
   "execution_count": 2,
   "metadata": {
    "collapsed": true
   },
   "outputs": [],
   "source": [
    "import matplotlib.pyplot as plt\n",
    "import pandas as pd\n",
    "import os"
   ]
  },
  {
   "cell_type": "code",
   "execution_count": 3,
   "metadata": {
    "collapsed": true
   },
   "outputs": [],
   "source": [
    "def bip():\n",
    "    os.system(\"printf '\\a'\")\n",
    "    \n",
    "#def set_trace():\n",
    "import pdb\n",
    "from pdb import set_trace as bp"
   ]
  },
  {
   "cell_type": "code",
   "execution_count": 54,
   "metadata": {
    "collapsed": true
   },
   "outputs": [],
   "source": [
    "files = ['A','AAL','AAN','AAOI','AAP','AAPL','AAXN','ABBV','ABC','ABCO','ABG','ABM','ABMD','ABT','ACAD','ACC','ACGL','ACHC','ACM','ACN','ACOR','ADBE','ADI','ADM','ADP','ADS','ADSK','AEE','AEIS','AEL','AEO','AEP','AER','AERI','AES','AET','AF','AFG','AFL','AFSI','AGCO','AGIO','AGN','AGNC','AGO','AGX','AHL','AIG','AIV','AIZ','AJG','AKAM','AKAO','AKR','AKRX','AKS','AL','ALB','ALDR','ALE','ALGN','ALGT','ALK','ALKS','ALL','ALLE','ALLY','ALNY','ALR','ALSN','ALXN','AMAG','AMAT','AMBA','AMC','AMCX','AMD','AME','AMED','AMG','AMGN','AMH','AMKR','AMN','AMP','AMT','AMTD','AMWD','AMZN','AN','ANET','ANF','ANIP','ANSS','ANTM','AOBC','AON','AOS','APA','APAM','APC','APD','APH','APOG','AR','ARCC','ARE','ARI','ARMK','ARR','ARRS','ARRY','ARW','ASB','ASGN','ASH','ASNA','ATHN','ATI','ATO','ATR','ATU','ATVI','ATW','AVA','AVB','AVGO','AVP','AVT','AVY','AWH','AWI','AWK','AXL','AXP','AXS','AXTA','AYI','AZO','AZPN','BA','BABY','BAC','BAH','BANC','BANR','BAP','BAX','BBBY','BBT','BBY','BC','BCO','BCR','BDC','BDN','BDX','BECN','BEN','BERY','BFAM','BG','BGCP','BGS','BHI','BID','BIG','BIIB','BIO','BJRI','BK','BKD','BKE','BKH','BKU','BLDR','BLK','BLKB','BLL','BLMN','BLUE','BMRN','BMS','BMY','BOBE','BOFI','BOH','BOKF','BPOP','BR','BRCD','BRKR','BRO','BRX','BSFT','BSX','BURL','BWA','BWLD','BWXT','BXMT','BXP','BXS','BYD','C','CA','CAA','CAB','CACC','CACI','CAG','CAH','CAKE','CALM','CAR','CARA','CASY','CAT','CATM','CATY','CAVM','CB','CBG','CBI','CBL','CBM','CBOE','CBPO','CBRL','CBS','CBSH','CBT','CCE','CCI','CCK','CCL','CCOI','CDE','CDK','CDNS','CDW','CE','CEF','CELG','CENX','CERN','CF','CFG','CFR','CFX','CGNX','CHD','CHDN','CHE','CHFC','CHH','CHK','CHKP','CHRS','CHRW','CHS','CHTR','CI','CIEN','CIM','CINF','CIT','CL','CLB','CLF','CLGX','CLH','CLI','CLNS','CLR','CLVS','CLX','CMA','CMC','CMD','CME','CMG','CMI','CMP','CMPR','CMS','CNC','CNK','CNO','CNP','CNX','COF','COG','COH','COHR','COL','COLB','COLM','COMM','CONE','COO','COP','COR','CORE','COST','COTY','CPA','CPB','CPE','CPN','CPRT','CPS','CPT','CR','CRAY','CRC','CREE','CRI','CRL','CRM','CRS','CRUS','CRZO','CSCO','CSGP','CSIQ','CSL','CSOD','CST','CSTE','CSX','CTAS','CTB','CTL','CTLT','CTSH','CTXS','CUBE','CUDA','CUZ','CVA','CVG','CVGW','CVI','CVLT','CVS','CVX','CW','CXO','CXP','CXW','CY','CYBR','CYH','CYS','CZZ','D','DAL','DAN','DAR','DATA','DBD','DCI','DCT','DD','DDD','DDR','DDS','DE','DECK','DEI','DEPO','DF','DFS','DFT','DG','DGI','DGX','DHI','DHR','DIN','DIS','DISH','DK','DKS','DLB','DLPH','DLR','DLTR','DLX','DNB','DNKN','DNOW','DNR','DO','DOC','DOOR','DOV','DOW','DOX','DPLO','DPS','DPZ','DRE','DRH','DRI','DRQ','DST','DSW','DTE','DUK','DV','DVA','DVN','DXC','DXCM','DY','DYN','EA','EAT','EBAY','EBIX','EBS','ECL','ED','EDR','EEFT','EFII','EFX','EGN','EGP','EGRX','EIX','EL','ELGX','ELLI','ELS','ELY','EME','EMN','EMR','ENDP','ENS','ENTG','EOG','EPAM','EPC','EPE','EPR','EQC','EQIX','EQR','EQT','ES','ESL','ESNT','ESPR','ESRT','ESRX','ESS','ESV','ETFC','ETN','ETR','EV','EVER','EVR','EW','EWBC','EXAS','EXC','EXEL','EXP','EXPD','EXPE','EXPR','EXR','F','FAF','FANG','FAST','FB','FBHS','FCB','FCFS','FCH','FCX','FDP','FDS','FDX','FE','FET','FEYE','FFIV','FHN','FI','FICO','FII','FINL','FIS','FISV','FITB','FIVE','FIZZ','FL','FLEX','FLIR','FLO','FLR','FLS','FLT','FMBI','FMC','FMSA','FN','FNB','FNSR','FOLD','FOSL','FOXA','FPRX','FR','FRAN','FRC','FRED','FRGI','FRT','FSLR','FTK','FTNT','FTR','FUL','FULT','G','GATX','GBX','GCO','GD','GE','GEO','GES','GGG','GGP','GHL','GIII','GILD','GIMO','GIS','GLNG','GLPI','GLW','GME','GMED','GNC','GNRC','GNTX','GNW','GOGO','GOV','GPC','GPI','GPK','GPN','GPOR','GPRE','GPRO','GPS','GPT','GRA','GRMN','GRPN','GRUB','GS','GT','GVA','GWB','GWR','GWRE','GWW','GXP','H','HA','HAE','HAIN','HAL','HALO','HAS','HAWK','HBAN','HBHC','HBI','HCA','HCN','HCP','HCSG','HD','HDS','HE','HELE','HES','HFC','HHC','HIBB','HIG','HII','HIW','HL','HLF','HLS','HLT','HLX','HMHC','HOG','HOLX','HOMB','HON','HOPE','HP','HPP','HPQ','HPT','HQY','HR','HRB','HRC','HRG','HRL','HRS','HRTX','HSIC','HSNI','HST','HSY','HTA','HTLD','HUBB','HUBS','HUM','HUN','HW','HXL','HYH','HZNP','IAC','IART','IBKC','IBKR','IBM','ICE','ICLR','ICPT','ICUI','IDA','IDCC','IDTI','IDXX','IEX','IFF','IGT','IIVI','ILG','ILMN','IMAX','IMMU','IMPV','INCR','INCY','INFN','INFO','INGN','INGR','INSY','INT','INTC','INTU','INVN','INXN','IONS','IP','IPG','IPGP','IPHI','IPXL','IR','IRBT','IRM','IRWD','ISBC','ISRG','IT','ITCI','ITRI','ITT','ITW','IVR','IVZ','JACK','JAZZ','JBHT','JBL','JBLU','JBT','JCI','JCOM','JCP','JEC','JKHY','JLL','JNJ','JNPR','JNS','JPM','JUNO','JWN','K','KALU','KAR','KATE','KBH','KBR','KCG','KEX','KEY','KEYS','KFY','KIM','KITE','KLAC','KLXI','KMB','KMI','KMT','KMX','KN','KNX','KO','KORS','KOS','KR','KRA','KRC','KRG','KS','KSS','KSU','L','LAD','LAMR','LAZ','LB','LC','LCI','LCII','LDOS','LEA','LECO','LEG','LEN','LFUS','LGIH','LGND','LH','LHO','LII','LJPC','LKQ','LL','LLL','LLY','LM','LMT','LNC','LNCE','LNG','LNT','LOGI','LOGM','LOPE','LOW','LPI','LPLA','LPNT','LPT','LPX','LQ','LRCX','LSCC','LSI','LSTR','LUK','LULU','LUV','LVLT','LVS','LXFT','LXP','LXRX','LYB','LYV','LZB','M','MA','MAA','MAC','MAN','MANH','MAR','MAS','MASI','MAT','MBFI','MBI','MBLY','MCD','MCHP','MCK','MCO','MD','MDC','MDCO','MDLZ','MDP','MDR','MDRX','MDSO','MDT','MDU','MELI','MET','MFA','MGLN','MGM','MHK','MIC','MIDD','MIK','MJN','MKC','MKL','MKSI','MKTX','MLHR','MLM','MLNX','MMC','MMM','MMS','MMYT','MNK','MNRO','MNST','MO','MOH','MON','MOS','MPC','MPW','MPWR','MRC','MRCY','MRK','MRO','MRVL','MS','MSCC','MSCI','MSFT','MSGN','MSI','MSM','MSTR','MTB','MTD','MTDR','MTG','MTH','MTN','MTOR','MTSI','MTW','MTX','MTZ','MU','MUR','MUSA','MUX','MWA','MXIM','MXL','MYGN','MYL','NAT','NATI','NAV','NAVI','NBIX','NBL','NBR','NCLH','NCR','NDAQ','NDSN','NE','NEE','NEM','NEWR','NFG','NFLX','NFX','NHI','NI','NJR','NKE','NKTR','NLSN','NLY','NNN','NOC','NOV','NOW','NRG','NRZ','NSC','NSP','NSR','NTAP','NTCT','NTGR','NTRI','NTRS','NUAN','NUE','NUS','NUVA','NVDA','NVR','NVRO','NWE','NWL','NWSA','NXST','NXTM','NYCB','NYRT','O','OAS','OC','OCLR','ODFL','ODP','OFC','OGE','OGS','OHI','OI','OII','OIS','OKE','OLED','OLN','OMC','OMF','OMI','ON','ONB','OPK','ORCL','ORI','ORLY','OSIS','OSK','OUT','OXM','OXY','OZRK','P','PACW','PAG','PAH','PANW','PAY','PAYC','PAYX','PB','PBCT','PBF','PBH','PBI','PBYI','PCAR','PCG','PCH','PCLN','PCRX','PCTY','PDCE','PDCO','PDM','PE','PEB','PEG','PEGA','PEGI','PENN','PEP','PF','PFE','PFG','PFPT','PG','PGNX','PGR','PGRE','PH','PHM','PII','PINC','PIR','PKG','PKI','PLAY','PLCE','PLD','PM','PNC','PNFP','PNM','PNR','PNRA','PNW','PODD','POL','POOL','POR','POST','PPC','PPG','PPL','PRAA','PRAH','PRGO','PRI','PRLB','PRTA','PRU','PRXL','PSA','PSEC','PSX','PTC','PTCT','PTEN','PTLA','PVH','PVTB','PWR','PX','PXD','PZZA','Q','QCOM','QEP','QGEN','QLYS','QTS','QVCA','R','RAD','RAI','RARE','RBC','RCII','RCL','RDC','RDN','RDUS','RE','REG','REGN','REN','RES','RF','RGA','RGC','RGLD','RGR','RH','RHI','RHP','RHT','RICE','RIG','RJF','RL','RLGY','RLJ','RMD','RNG','RNR','ROIC','ROK','ROL','ROP','ROST','RP','RPAI','RPM','RPT','RRC','RRD','RRGB','RS','RSG','RSPP','RTN','RTRX','RXN','RYN','S','SABR','SAFM','SAGE','SAIC','SAM','SANM','SAVE','SBAC','SBGI','SBH','SBNY','SBRA','SBUX','SC','SCCO','SCG','SCHW','SCI','SCS','SCSS','SEAS','SEE','SEIC','SEM','SEMG','SERV','SF','SFL','SFLY','SFM','SFR','SGEN','SGMS','SGYP','SHLD','SHO','SHOO','SHW','SIG','SINA','SIRI','SIVB','SIX','SJI','SJM','SKT','SKX','SKYW','SLAB','SLB','SLCA','SLG','SLGN','SLM','SM','SMG','SMTC','SN','SNA','SNCR','SNH','SNI','SNPS','SNV','SNX','SO','SODA','SON','SONC','SPB','SPG','SPGI','SPLK','SPLS','SPN','SPR','SPWR','SR','SRC','SRCI','SRCL','SRE','SRPT','SSNC','SSTK','SSYS','STAG','STAY','STE','STI','STL','STLD','STMP','STNG','STOR','STRP','STT','STWD','STX','STZ','SUI','SUPN','SVU','SWFT','SWK','SWKS','SWN','SWX','SXT','SYF','SYK','SYMC','SYNA','SYNT','SYY','T','TAP','TARO','TCB','TCBI','TCO','TDC','TDG','TDS','TDY','TECD','TECH','TEL','TEN','TER','TERP','TEX','TFX','TGI','TGNA','TGT','TGTX','THC','THG','THO','THRM','THS','TIF','TIME','TIVO','TJX','TK','TKR','TLRD','TMHC','TMK','TMO','TMUS','TOL','TPC','TPH','TPX','TRCO','TREE','TREX','TRGP','TRIP','TRMB','TRN','TROW','TROX','TRUE','TRV','TSCO','TSE','TSLA','TSN','TSO','TSRO','TSS','TTC','TTEK','TTMI','TTWO','TUP','TVPT','TVTY','TWO','TWOU','TWTR','TWX','TXMD','TXN','TXRH','TXT','TYL','UAA','UAL','UBNT','UBSI','UCBI','UDR','UFS','UGI','UHAL','UHS','ULTA','ULTI','UMBF','UMPQ','UNF','UNFI','UNH','UNM','UNP','UNT','UPS','URBN','URI','USB','USCR','USG','UTHR','UTX','UVV','V','VAC','VAL','VAR','VC','VEEV','VER','VFC','VG','VGR','VIAV','VLO','VLY','VMC','VMI','VMW','VNO','VNTV','VOYA','VR','VRNT','VRSK','VRSN','VRTX','VSAT','VSH','VTR','VVC','VWR','VZ','W','WAB','WAFD','WAGE','WAL','WAT','WBA','WBC','WBMD','WBS','WCC','WCG','WCN','WDAY','WDC','WDR','WEC','WEN','WERN','WETF','WEX','WFC','WFM','WFT','WGL','WGO','WHR','WIN','WIX','WLK','WLL','WM','WMB','WMGI','WMT','WNC','WNR','WOOF','WOR','WPC','WPG','WPX','WR','WRB','WRE','WRI','WSM','WSO','WST','WTFC','WTR','WTW','WU','WWD','WWW','WY','WYN','WYNN','X','XEC','XEL','XL','XLNX','XOM','XON','XPER','XPO','XRAY','XRX','XYL','Y','YELP','YHOO','YNDX','YUM','ZAYO','ZBH','ZBRA','ZEN','ZG','ZION','ZIOP','ZLTQ','ZNGA','ZTS']"
   ]
  },
  {
   "cell_type": "code",
   "execution_count": 55,
   "metadata": {
    "collapsed": true
   },
   "outputs": [],
   "source": [
    "files = files[:]"
   ]
  },
  {
   "cell_type": "code",
   "execution_count": 56,
   "metadata": {
    "collapsed": true
   },
   "outputs": [],
   "source": [
    "list_df = []\n",
    "df = pd.DataFrame(columns=['Stock', 'Date','Open','High','Low','Close','Volume','Adj Close','Close_norm'])"
   ]
  },
  {
   "cell_type": "markdown",
   "metadata": {},
   "source": [
    "# ToDo in this notebook\n",
    "1. Normalizar todas las series\n",
    "2. Eliminar stocks que tengan la máxima autocorrelación mayor a 5 lags\n",
    "3. Export the dataframe as one csv file"
   ]
  },
  {
   "cell_type": "markdown",
   "metadata": {},
   "source": [
    "## 1. Normalizing all series for each stock\n",
    "## 2. Removing stocks which have the greatest correlation greater than 5 lags"
   ]
  },
  {
   "cell_type": "code",
   "execution_count": 57,
   "metadata": {
    "collapsed": true
   },
   "outputs": [],
   "source": [
    "def normalize(serie):\n",
    "    min = serie.min()\n",
    "    max = serie.max()\n",
    "    return (serie-min)/(max-min)"
   ]
  },
  {
   "cell_type": "code",
   "execution_count": 58,
   "metadata": {
    "collapsed": true
   },
   "outputs": [],
   "source": [
    "#df_temp = pd.read_csv('dataset/A.csv')\n",
    "#df_temp.loc[:,['Open','High','Low','Close']] = df_temp.loc[:,['Open','High','Low','Close']].apply(axis=1, func=normalize)"
   ]
  },
  {
   "cell_type": "code",
   "execution_count": 59,
   "metadata": {},
   "outputs": [
    {
     "name": "stdout",
     "output_type": "stream",
     "text": [
      "In total there are 1520618 entries and 40 stocks were removed\n"
     ]
    }
   ],
   "source": [
    "entries = 0\n",
    "discarded = 0\n",
    "for name in files:\n",
    "    corr = list();\n",
    "    df_temp = pd.read_csv('dataset/' + name + '.csv')\n",
    "    df_temp.loc[:,'Stock'] = name\n",
    "    if df_temp.shape[0] >=  90:\n",
    "        df_temp.loc[:,'Average'] = (df_temp['Open']+df_temp['High']+df_temp['Low']+df_temp['Close'])/4\n",
    "        df_temp.loc[df_temp.index != df_temp.index[0], 'Return'] = (df_temp.loc[:,'Close'].iloc[1:].reset_index(drop=True)/df_temp.loc[:,'Close'].iloc[:-1].reset_index(drop=True)-1).values\n",
    "        df_temp.loc[:,['Open','High','Low','Close','Average']] = df_temp.loc[:,['Open','High','Low','Close','Average']].apply(axis=0, func=normalize)\n",
    "        #%debug\n",
    "        #----- highest lag\n",
    "        for i in range(1,91):\n",
    "            corr.append(df_temp.loc[:,'Close'].autocorr(i))\n",
    "        # if highest lag is lower than 6:\n",
    "        if corr.index(max(corr)) + 1 <= 5 :\n",
    "            #Add max and min corre between 1-5 days\n",
    "            df_temp.loc[:,'Max'] = corr.index(max(corr)) + 1\n",
    "            df_temp.loc[:,'Min'] = corr.index(sorted(corr, reverse=True)[4])+1\n",
    "            \n",
    "            list_df.append(df_temp)\n",
    "        else:\n",
    "            discarded += 1\n",
    "        entries += df_temp.shape[0]\n",
    "        #----- end\n",
    "    else:\n",
    "        discarded += 1\n",
    "    \n",
    "bip()\n",
    "print(\"In total there are %i entries and %i stocks were removed\" % (entries, discarded))"
   ]
  },
  {
   "cell_type": "code",
   "execution_count": 60,
   "metadata": {
    "collapsed": true
   },
   "outputs": [],
   "source": [
    "df = pd.concat(list_df)"
   ]
  },
  {
   "cell_type": "code",
   "execution_count": 61,
   "metadata": {},
   "outputs": [
    {
     "data": {
      "text/plain": [
       "count    1.520618e+06\n",
       "mean     5.009211e+00\n",
       "std      7.284972e-01\n",
       "min      4.000000e+00\n",
       "25%      5.000000e+00\n",
       "50%      5.000000e+00\n",
       "75%      5.000000e+00\n",
       "max      6.700000e+01\n",
       "Name: Min, dtype: float64"
      ]
     },
     "execution_count": 61,
     "metadata": {},
     "output_type": "execute_result"
    }
   ],
   "source": [
    "df.Min.describe()"
   ]
  },
  {
   "cell_type": "code",
   "execution_count": 62,
   "metadata": {},
   "outputs": [
    {
     "data": {
      "text/plain": [
       "count    1.519204e+06\n",
       "mean     7.395345e-04\n",
       "std      6.171301e-02\n",
       "min     -9.972277e-01\n",
       "25%     -1.242240e-02\n",
       "50%      0.000000e+00\n",
       "75%      1.295337e-02\n",
       "max      5.331250e+01\n",
       "Name: Return, dtype: float64"
      ]
     },
     "execution_count": 62,
     "metadata": {},
     "output_type": "execute_result"
    }
   ],
   "source": [
    "df['Return'].describe()"
   ]
  },
  {
   "cell_type": "markdown",
   "metadata": {},
   "source": [
    "## Exporting file"
   ]
  },
  {
   "cell_type": "code",
   "execution_count": 63,
   "metadata": {
    "collapsed": true
   },
   "outputs": [],
   "source": [
    "df.to_csv('dataset.csv', index=False)"
   ]
  },
  {
   "cell_type": "code",
   "execution_count": 64,
   "metadata": {
    "collapsed": true
   },
   "outputs": [],
   "source": [
    "bip()"
   ]
  },
  {
   "cell_type": "code",
   "execution_count": null,
   "metadata": {
    "collapsed": true
   },
   "outputs": [],
   "source": []
  }
 ],
 "metadata": {
  "kernelspec": {
   "display_name": "Python 3",
   "language": "python",
   "name": "python3"
  },
  "language_info": {
   "codemirror_mode": {
    "name": "ipython",
    "version": 3
   },
   "file_extension": ".py",
   "mimetype": "text/x-python",
   "name": "python",
   "nbconvert_exporter": "python",
   "pygments_lexer": "ipython3",
   "version": "3.5.2"
  }
 },
 "nbformat": 4,
 "nbformat_minor": 2
}
