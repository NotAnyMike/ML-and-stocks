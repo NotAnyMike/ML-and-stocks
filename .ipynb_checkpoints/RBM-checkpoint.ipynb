{
 "cells": [
  {
   "cell_type": "markdown",
   "metadata": {},
   "source": [
    "# Running Bernulli-RBM"
   ]
  },
  {
   "cell_type": "code",
   "execution_count": 1,
   "metadata": {
    "collapsed": true
   },
   "outputs": [],
   "source": [
    "import pandas as pd\n",
    "from sklearn.neural_network import BernoulliRBM\n",
    "from sklearn.model_selection import train_test_split\n",
    "import numpy as np\n",
    "import os\n",
    "%matplotlib inline"
   ]
  },
  {
   "cell_type": "code",
   "execution_count": 2,
   "metadata": {
    "collapsed": true
   },
   "outputs": [],
   "source": [
    "def bip():\n",
    "    os.system(\"printf '\\a'\")\n",
    "    \n",
    "#def set_trace():\n",
    "import pdb\n",
    "from pdb import set_trace as bp"
   ]
  },
  {
   "cell_type": "code",
   "execution_count": 33,
   "metadata": {
    "collapsed": true
   },
   "outputs": [],
   "source": [
    "df = pd.read_csv('dataset.csv', usecols=['Date','Open','High','Low','Close','Average','Volume','Adj Close','Return','Stock'])"
   ]
  },
  {
   "cell_type": "code",
   "execution_count": 34,
   "metadata": {
    "collapsed": true
   },
   "outputs": [],
   "source": [
    "df = df[:50000]"
   ]
  },
  {
   "cell_type": "code",
   "execution_count": 35,
   "metadata": {},
   "outputs": [
    {
     "data": {
      "text/html": [
       "<div>\n",
       "<style>\n",
       "    .dataframe thead tr:only-child th {\n",
       "        text-align: right;\n",
       "    }\n",
       "\n",
       "    .dataframe thead th {\n",
       "        text-align: left;\n",
       "    }\n",
       "\n",
       "    .dataframe tbody tr th {\n",
       "        vertical-align: top;\n",
       "    }\n",
       "</style>\n",
       "<table border=\"1\" class=\"dataframe\">\n",
       "  <thead>\n",
       "    <tr style=\"text-align: right;\">\n",
       "      <th></th>\n",
       "      <th>Date</th>\n",
       "      <th>Open</th>\n",
       "      <th>High</th>\n",
       "      <th>Low</th>\n",
       "      <th>Close</th>\n",
       "      <th>Volume</th>\n",
       "      <th>Adj Close</th>\n",
       "      <th>Stock</th>\n",
       "      <th>Average</th>\n",
       "      <th>Return</th>\n",
       "    </tr>\n",
       "  </thead>\n",
       "  <tbody>\n",
       "    <tr>\n",
       "      <th>0</th>\n",
       "      <td>2006-01-03</td>\n",
       "      <td>0.710553</td>\n",
       "      <td>0.707904</td>\n",
       "      <td>0.705324</td>\n",
       "      <td>0.714383</td>\n",
       "      <td>5307000</td>\n",
       "      <td>21.399132</td>\n",
       "      <td>A</td>\n",
       "      <td>0.711972</td>\n",
       "      <td>NaN</td>\n",
       "    </tr>\n",
       "    <tr>\n",
       "      <th>1</th>\n",
       "      <td>2006-01-04</td>\n",
       "      <td>0.715643</td>\n",
       "      <td>0.716495</td>\n",
       "      <td>0.723974</td>\n",
       "      <td>0.717436</td>\n",
       "      <td>4195800</td>\n",
       "      <td>21.456621</td>\n",
       "      <td>A</td>\n",
       "      <td>0.720884</td>\n",
       "      <td>0.002687</td>\n",
       "    </tr>\n",
       "    <tr>\n",
       "      <th>2</th>\n",
       "      <td>2006-01-05</td>\n",
       "      <td>0.712250</td>\n",
       "      <td>0.738488</td>\n",
       "      <td>0.726687</td>\n",
       "      <td>0.747286</td>\n",
       "      <td>4835400</td>\n",
       "      <td>22.018748</td>\n",
       "      <td>A</td>\n",
       "      <td>0.733739</td>\n",
       "      <td>0.026198</td>\n",
       "    </tr>\n",
       "    <tr>\n",
       "      <th>3</th>\n",
       "      <td>2006-01-06</td>\n",
       "      <td>0.747879</td>\n",
       "      <td>0.749485</td>\n",
       "      <td>0.748389</td>\n",
       "      <td>0.753392</td>\n",
       "      <td>6146300</td>\n",
       "      <td>22.133729</td>\n",
       "      <td>A</td>\n",
       "      <td>0.752507</td>\n",
       "      <td>0.005222</td>\n",
       "    </tr>\n",
       "    <tr>\n",
       "      <th>4</th>\n",
       "      <td>2006-01-09</td>\n",
       "      <td>0.752969</td>\n",
       "      <td>0.749828</td>\n",
       "      <td>0.759580</td>\n",
       "      <td>0.750000</td>\n",
       "      <td>4082800</td>\n",
       "      <td>22.069850</td>\n",
       "      <td>A</td>\n",
       "      <td>0.755849</td>\n",
       "      <td>-0.002886</td>\n",
       "    </tr>\n",
       "  </tbody>\n",
       "</table>\n",
       "</div>"
      ],
      "text/plain": [
       "         Date      Open      High       Low     Close   Volume  Adj Close  \\\n",
       "0  2006-01-03  0.710553  0.707904  0.705324  0.714383  5307000  21.399132   \n",
       "1  2006-01-04  0.715643  0.716495  0.723974  0.717436  4195800  21.456621   \n",
       "2  2006-01-05  0.712250  0.738488  0.726687  0.747286  4835400  22.018748   \n",
       "3  2006-01-06  0.747879  0.749485  0.748389  0.753392  6146300  22.133729   \n",
       "4  2006-01-09  0.752969  0.749828  0.759580  0.750000  4082800  22.069850   \n",
       "\n",
       "  Stock   Average    Return  \n",
       "0     A  0.711972       NaN  \n",
       "1     A  0.720884  0.002687  \n",
       "2     A  0.733739  0.026198  \n",
       "3     A  0.752507  0.005222  \n",
       "4     A  0.755849 -0.002886  "
      ]
     },
     "execution_count": 35,
     "metadata": {},
     "output_type": "execute_result"
    }
   ],
   "source": [
    "df.head()"
   ]
  },
  {
   "cell_type": "markdown",
   "metadata": {},
   "source": [
    "## Creating `Day` Column"
   ]
  },
  {
   "cell_type": "code",
   "execution_count": 36,
   "metadata": {
    "collapsed": true
   },
   "outputs": [],
   "source": [
    "df.loc[:,'Date'] = pd.to_datetime(df.loc[:,'Date'])\n",
    "df.loc[:,'Day'] = df.loc[:,'Date'].dt.dayofweek/6"
   ]
  },
  {
   "cell_type": "markdown",
   "metadata": {},
   "source": [
    "## Creating `return` column"
   ]
  },
  {
   "cell_type": "code",
   "execution_count": 37,
   "metadata": {
    "collapsed": true
   },
   "outputs": [],
   "source": [
    "#df.loc[:,'Return'] = np.nan"
   ]
  },
  {
   "cell_type": "code",
   "execution_count": 38,
   "metadata": {
    "collapsed": true
   },
   "outputs": [],
   "source": [
    "def get_return(group):\n",
    "    #if group.name != 'A': bp()\n",
    "    df.loc[(df.loc[:,'Stock'] == group.name) & (df.index != group.index[0]), 'Return'] = (group.loc[:,'Close'].iloc[1:].reset_index(drop=True)/group.loc[:,'Close'].iloc[:-1].reset_index(drop=True)-1).values\n",
    "    "
   ]
  },
  {
   "cell_type": "code",
   "execution_count": 39,
   "metadata": {
    "collapsed": true
   },
   "outputs": [],
   "source": [
    "#df.groupby('Stock').apply(get_return);\n",
    "#bip()"
   ]
  },
  {
   "cell_type": "code",
   "execution_count": 40,
   "metadata": {},
   "outputs": [
    {
     "data": {
      "text/html": [
       "<div>\n",
       "<style>\n",
       "    .dataframe thead tr:only-child th {\n",
       "        text-align: right;\n",
       "    }\n",
       "\n",
       "    .dataframe thead th {\n",
       "        text-align: left;\n",
       "    }\n",
       "\n",
       "    .dataframe tbody tr th {\n",
       "        vertical-align: top;\n",
       "    }\n",
       "</style>\n",
       "<table border=\"1\" class=\"dataframe\">\n",
       "  <thead>\n",
       "    <tr style=\"text-align: right;\">\n",
       "      <th></th>\n",
       "      <th>Date</th>\n",
       "      <th>Open</th>\n",
       "      <th>High</th>\n",
       "      <th>Low</th>\n",
       "      <th>Close</th>\n",
       "      <th>Volume</th>\n",
       "      <th>Adj Close</th>\n",
       "      <th>Stock</th>\n",
       "      <th>Average</th>\n",
       "      <th>Return</th>\n",
       "      <th>Day</th>\n",
       "    </tr>\n",
       "  </thead>\n",
       "  <tbody>\n",
       "    <tr>\n",
       "      <th>49768</th>\n",
       "      <td>2008-05-15</td>\n",
       "      <td>0.341564</td>\n",
       "      <td>0.287530</td>\n",
       "      <td>0.396133</td>\n",
       "      <td>0.312246</td>\n",
       "      <td>4197900</td>\n",
       "      <td>4.447256</td>\n",
       "      <td>AGNC</td>\n",
       "      <td>0.317184</td>\n",
       "      <td>NaN</td>\n",
       "      <td>0.500000</td>\n",
       "    </tr>\n",
       "    <tr>\n",
       "      <th>49769</th>\n",
       "      <td>2008-05-16</td>\n",
       "      <td>0.326867</td>\n",
       "      <td>0.309322</td>\n",
       "      <td>0.400552</td>\n",
       "      <td>0.349391</td>\n",
       "      <td>1109600</td>\n",
       "      <td>4.594348</td>\n",
       "      <td>AGNC</td>\n",
       "      <td>0.329750</td>\n",
       "      <td>0.033075</td>\n",
       "      <td>0.666667</td>\n",
       "    </tr>\n",
       "    <tr>\n",
       "      <th>49770</th>\n",
       "      <td>2008-05-19</td>\n",
       "      <td>0.364491</td>\n",
       "      <td>0.308111</td>\n",
       "      <td>0.400552</td>\n",
       "      <td>0.321532</td>\n",
       "      <td>329700</td>\n",
       "      <td>4.484029</td>\n",
       "      <td>AGNC</td>\n",
       "      <td>0.331870</td>\n",
       "      <td>-0.024012</td>\n",
       "      <td>0.000000</td>\n",
       "    </tr>\n",
       "    <tr>\n",
       "      <th>49771</th>\n",
       "      <td>2008-05-20</td>\n",
       "      <td>0.340976</td>\n",
       "      <td>0.297215</td>\n",
       "      <td>0.401657</td>\n",
       "      <td>0.312246</td>\n",
       "      <td>110100</td>\n",
       "      <td>4.447256</td>\n",
       "      <td>AGNC</td>\n",
       "      <td>0.320969</td>\n",
       "      <td>-0.008201</td>\n",
       "      <td>0.166667</td>\n",
       "    </tr>\n",
       "    <tr>\n",
       "      <th>49772</th>\n",
       "      <td>2008-05-21</td>\n",
       "      <td>0.328630</td>\n",
       "      <td>0.274818</td>\n",
       "      <td>0.400000</td>\n",
       "      <td>0.306442</td>\n",
       "      <td>300300</td>\n",
       "      <td>4.424272</td>\n",
       "      <td>AGNC</td>\n",
       "      <td>0.310220</td>\n",
       "      <td>-0.005168</td>\n",
       "      <td>0.333333</td>\n",
       "    </tr>\n",
       "  </tbody>\n",
       "</table>\n",
       "</div>"
      ],
      "text/plain": [
       "            Date      Open      High       Low     Close   Volume  Adj Close  \\\n",
       "49768 2008-05-15  0.341564  0.287530  0.396133  0.312246  4197900   4.447256   \n",
       "49769 2008-05-16  0.326867  0.309322  0.400552  0.349391  1109600   4.594348   \n",
       "49770 2008-05-19  0.364491  0.308111  0.400552  0.321532   329700   4.484029   \n",
       "49771 2008-05-20  0.340976  0.297215  0.401657  0.312246   110100   4.447256   \n",
       "49772 2008-05-21  0.328630  0.274818  0.400000  0.306442   300300   4.424272   \n",
       "\n",
       "      Stock   Average    Return       Day  \n",
       "49768  AGNC  0.317184       NaN  0.500000  \n",
       "49769  AGNC  0.329750  0.033075  0.666667  \n",
       "49770  AGNC  0.331870 -0.024012  0.000000  \n",
       "49771  AGNC  0.320969 -0.008201  0.166667  \n",
       "49772  AGNC  0.310220 -0.005168  0.333333  "
      ]
     },
     "execution_count": 40,
     "metadata": {},
     "output_type": "execute_result"
    }
   ],
   "source": [
    "df[df['Stock'] == \"AGNC\"].head()"
   ]
  },
  {
   "cell_type": "code",
   "execution_count": 41,
   "metadata": {},
   "outputs": [
    {
     "name": "stdout",
     "output_type": "stream",
     "text": [
      "The number of NaN Returns matches the number of stocks\n"
     ]
    }
   ],
   "source": [
    "print(\"The number of NaN Returns %smatches the number of stocks\" % \"\" if df['Return'].isnull().sum() == len(df['Stock'].unique()) else \"not \")"
   ]
  },
  {
   "cell_type": "markdown",
   "metadata": {},
   "source": [
    "## Categorizing returns"
   ]
  },
  {
   "cell_type": "code",
   "execution_count": 42,
   "metadata": {},
   "outputs": [
    {
     "data": {
      "text/html": [
       "<div>\n",
       "<style>\n",
       "    .dataframe thead tr:only-child th {\n",
       "        text-align: right;\n",
       "    }\n",
       "\n",
       "    .dataframe thead th {\n",
       "        text-align: left;\n",
       "    }\n",
       "\n",
       "    .dataframe tbody tr th {\n",
       "        vertical-align: top;\n",
       "    }\n",
       "</style>\n",
       "<table border=\"1\" class=\"dataframe\">\n",
       "  <thead>\n",
       "    <tr style=\"text-align: right;\">\n",
       "      <th></th>\n",
       "      <th>Date</th>\n",
       "      <th>Open</th>\n",
       "      <th>High</th>\n",
       "      <th>Low</th>\n",
       "      <th>Close</th>\n",
       "      <th>Volume</th>\n",
       "      <th>Adj Close</th>\n",
       "      <th>Stock</th>\n",
       "      <th>Average</th>\n",
       "      <th>Return</th>\n",
       "      <th>Day</th>\n",
       "      <th>y</th>\n",
       "    </tr>\n",
       "  </thead>\n",
       "  <tbody>\n",
       "    <tr>\n",
       "      <th>0</th>\n",
       "      <td>2006-01-03</td>\n",
       "      <td>0.710553</td>\n",
       "      <td>0.707904</td>\n",
       "      <td>0.705324</td>\n",
       "      <td>0.714383</td>\n",
       "      <td>5307000</td>\n",
       "      <td>21.399132</td>\n",
       "      <td>A</td>\n",
       "      <td>0.711972</td>\n",
       "      <td>NaN</td>\n",
       "      <td>0.166667</td>\n",
       "      <td>NaN</td>\n",
       "    </tr>\n",
       "    <tr>\n",
       "      <th>1</th>\n",
       "      <td>2006-01-04</td>\n",
       "      <td>0.715643</td>\n",
       "      <td>0.716495</td>\n",
       "      <td>0.723974</td>\n",
       "      <td>0.717436</td>\n",
       "      <td>4195800</td>\n",
       "      <td>21.456621</td>\n",
       "      <td>A</td>\n",
       "      <td>0.720884</td>\n",
       "      <td>0.002687</td>\n",
       "      <td>0.333333</td>\n",
       "      <td>2.0</td>\n",
       "    </tr>\n",
       "    <tr>\n",
       "      <th>2</th>\n",
       "      <td>2006-01-05</td>\n",
       "      <td>0.712250</td>\n",
       "      <td>0.738488</td>\n",
       "      <td>0.726687</td>\n",
       "      <td>0.747286</td>\n",
       "      <td>4835400</td>\n",
       "      <td>22.018748</td>\n",
       "      <td>A</td>\n",
       "      <td>0.733739</td>\n",
       "      <td>0.026198</td>\n",
       "      <td>0.500000</td>\n",
       "      <td>3.0</td>\n",
       "    </tr>\n",
       "    <tr>\n",
       "      <th>3</th>\n",
       "      <td>2006-01-06</td>\n",
       "      <td>0.747879</td>\n",
       "      <td>0.749485</td>\n",
       "      <td>0.748389</td>\n",
       "      <td>0.753392</td>\n",
       "      <td>6146300</td>\n",
       "      <td>22.133729</td>\n",
       "      <td>A</td>\n",
       "      <td>0.752507</td>\n",
       "      <td>0.005222</td>\n",
       "      <td>0.666667</td>\n",
       "      <td>2.0</td>\n",
       "    </tr>\n",
       "    <tr>\n",
       "      <th>4</th>\n",
       "      <td>2006-01-09</td>\n",
       "      <td>0.752969</td>\n",
       "      <td>0.749828</td>\n",
       "      <td>0.759580</td>\n",
       "      <td>0.750000</td>\n",
       "      <td>4082800</td>\n",
       "      <td>22.069850</td>\n",
       "      <td>A</td>\n",
       "      <td>0.755849</td>\n",
       "      <td>-0.002886</td>\n",
       "      <td>0.000000</td>\n",
       "      <td>2.0</td>\n",
       "    </tr>\n",
       "  </tbody>\n",
       "</table>\n",
       "</div>"
      ],
      "text/plain": [
       "        Date      Open      High       Low     Close   Volume  Adj Close  \\\n",
       "0 2006-01-03  0.710553  0.707904  0.705324  0.714383  5307000  21.399132   \n",
       "1 2006-01-04  0.715643  0.716495  0.723974  0.717436  4195800  21.456621   \n",
       "2 2006-01-05  0.712250  0.738488  0.726687  0.747286  4835400  22.018748   \n",
       "3 2006-01-06  0.747879  0.749485  0.748389  0.753392  6146300  22.133729   \n",
       "4 2006-01-09  0.752969  0.749828  0.759580  0.750000  4082800  22.069850   \n",
       "\n",
       "  Stock   Average    Return       Day    y  \n",
       "0     A  0.711972       NaN  0.166667  NaN  \n",
       "1     A  0.720884  0.002687  0.333333  2.0  \n",
       "2     A  0.733739  0.026198  0.500000  3.0  \n",
       "3     A  0.752507  0.005222  0.666667  2.0  \n",
       "4     A  0.755849 -0.002886  0.000000  2.0  "
      ]
     },
     "execution_count": 42,
     "metadata": {},
     "output_type": "execute_result"
    }
   ],
   "source": [
    "df.loc[df['Return'] < -0.03,'y'] = 0\n",
    "df.loc[(df['Return'] >= -0.03) & (df['Return'] <-0.01),'y'] = 1\n",
    "df.loc[(df['Return'] >= -0.01) & (df['Return'] <0.01),'y'] = 2\n",
    "df.loc[(df['Return'] >= 0.01) & (df['Return'] <0.03),'y'] = 3\n",
    "df.loc[df['Return'] >= 0.03,'y'] = 4\n",
    "df.head()"
   ]
  },
  {
   "cell_type": "code",
   "execution_count": 43,
   "metadata": {
    "scrolled": true
   },
   "outputs": [
    {
     "data": {
      "text/plain": [
       "count    49956.000000\n",
       "mean         2.006746\n",
       "std          1.074995\n",
       "min          0.000000\n",
       "25%          1.000000\n",
       "50%          2.000000\n",
       "75%          3.000000\n",
       "max          4.000000\n",
       "Name: y, dtype: float64"
      ]
     },
     "execution_count": 43,
     "metadata": {},
     "output_type": "execute_result"
    }
   ],
   "source": [
    "df['y'].describe()"
   ]
  },
  {
   "cell_type": "markdown",
   "metadata": {
    "collapsed": true
   },
   "source": [
    "## Some histogram for fun"
   ]
  },
  {
   "cell_type": "code",
   "execution_count": 44,
   "metadata": {},
   "outputs": [
    {
     "data": {
      "text/plain": [
       "<matplotlib.axes._subplots.AxesSubplot at 0x104e69a20>"
      ]
     },
     "execution_count": 44,
     "metadata": {},
     "output_type": "execute_result"
    },
    {
     "data": {
      "image/png": "[encoded data removed]",
      "text/plain": [
       "<matplotlib.figure.Figure at 0x104e5c390>"
      ]
     },
     "metadata": {},
     "output_type": "display_data"
    }
   ],
   "source": [
    "df['y'].hist()"
   ]
  },
  {
   "cell_type": "markdown",
   "metadata": {},
   "source": [
    "# Restricted Boltzmann Machine"
   ]
  },
  {
   "cell_type": "markdown",
   "metadata": {},
   "source": [
    "There will be several models for __each__ stock, the models will have the following inputs\n",
    "* the average price of all 4 prices in windows of the maximum lag between 1 and 5 days\n",
    "* the average price of all 4 prices in windows of the minimum lag between 1 and 5 days"
   ]
  },
  {
   "cell_type": "markdown",
   "metadata": {},
   "source": [
    "## Running RBM"
   ]
  },
  {
   "cell_type": "code",
   "execution_count": 45,
   "metadata": {
    "collapsed": true
   },
   "outputs": [],
   "source": [
    "models = dict()"
   ]
  },
  {
   "cell_type": "code",
   "execution_count": 46,
   "metadata": {},
   "outputs": [],
   "source": [
    "df = df[df['Return'].isnull() == False]"
   ]
  },
  {
   "cell_type": "code",
   "execution_count": 47,
   "metadata": {},
   "outputs": [
    {
     "data": {
      "text/html": [
       "<div>\n",
       "<style>\n",
       "    .dataframe thead tr:only-child th {\n",
       "        text-align: right;\n",
       "    }\n",
       "\n",
       "    .dataframe thead th {\n",
       "        text-align: left;\n",
       "    }\n",
       "\n",
       "    .dataframe tbody tr th {\n",
       "        vertical-align: top;\n",
       "    }\n",
       "</style>\n",
       "<table border=\"1\" class=\"dataframe\">\n",
       "  <thead>\n",
       "    <tr style=\"text-align: right;\">\n",
       "      <th></th>\n",
       "      <th>Open</th>\n",
       "      <th>High</th>\n",
       "      <th>Low</th>\n",
       "      <th>Close</th>\n",
       "      <th>Volume</th>\n",
       "      <th>Adj Close</th>\n",
       "      <th>Average</th>\n",
       "      <th>Return</th>\n",
       "      <th>Day</th>\n",
       "      <th>y</th>\n",
       "    </tr>\n",
       "  </thead>\n",
       "  <tbody>\n",
       "    <tr>\n",
       "      <th>count</th>\n",
       "      <td>49956.000000</td>\n",
       "      <td>49956.000000</td>\n",
       "      <td>49956.000000</td>\n",
       "      <td>49956.000000</td>\n",
       "      <td>4.995600e+04</td>\n",
       "      <td>49956.000000</td>\n",
       "      <td>49956.000000</td>\n",
       "      <td>49956.000000</td>\n",
       "      <td>49956.000000</td>\n",
       "      <td>49956.000000</td>\n",
       "    </tr>\n",
       "    <tr>\n",
       "      <th>mean</th>\n",
       "      <td>0.474266</td>\n",
       "      <td>0.470725</td>\n",
       "      <td>0.481319</td>\n",
       "      <td>0.476344</td>\n",
       "      <td>7.742894e+06</td>\n",
       "      <td>22.484619</td>\n",
       "      <td>0.475897</td>\n",
       "      <td>0.000639</td>\n",
       "      <td>0.336636</td>\n",
       "      <td>2.006746</td>\n",
       "    </tr>\n",
       "    <tr>\n",
       "      <th>std</th>\n",
       "      <td>0.248116</td>\n",
       "      <td>0.248520</td>\n",
       "      <td>0.248926</td>\n",
       "      <td>0.247638</td>\n",
       "      <td>3.622541e+07</td>\n",
       "      <td>12.931536</td>\n",
       "      <td>0.249939</td>\n",
       "      <td>0.035410</td>\n",
       "      <td>0.233184</td>\n",
       "      <td>1.074995</td>\n",
       "    </tr>\n",
       "    <tr>\n",
       "      <th>min</th>\n",
       "      <td>0.000000</td>\n",
       "      <td>0.000000</td>\n",
       "      <td>0.000000</td>\n",
       "      <td>0.000000</td>\n",
       "      <td>0.000000e+00</td>\n",
       "      <td>0.660000</td>\n",
       "      <td>0.000000</td>\n",
       "      <td>-0.657534</td>\n",
       "      <td>0.000000</td>\n",
       "      <td>0.000000</td>\n",
       "    </tr>\n",
       "    <tr>\n",
       "      <th>25%</th>\n",
       "      <td>0.276575</td>\n",
       "      <td>0.273838</td>\n",
       "      <td>0.284469</td>\n",
       "      <td>0.280435</td>\n",
       "      <td>3.797750e+05</td>\n",
       "      <td>13.294423</td>\n",
       "      <td>0.276960</td>\n",
       "      <td>-0.012279</td>\n",
       "      <td>0.166667</td>\n",
       "      <td>1.000000</td>\n",
       "    </tr>\n",
       "    <tr>\n",
       "      <th>50%</th>\n",
       "      <td>0.471232</td>\n",
       "      <td>0.464631</td>\n",
       "      <td>0.478799</td>\n",
       "      <td>0.472103</td>\n",
       "      <td>1.285850e+06</td>\n",
       "      <td>21.027909</td>\n",
       "      <td>0.472237</td>\n",
       "      <td>0.000000</td>\n",
       "      <td>0.333333</td>\n",
       "      <td>2.000000</td>\n",
       "    </tr>\n",
       "    <tr>\n",
       "      <th>75%</th>\n",
       "      <td>0.666327</td>\n",
       "      <td>0.660870</td>\n",
       "      <td>0.675340</td>\n",
       "      <td>0.668311</td>\n",
       "      <td>3.715600e+06</td>\n",
       "      <td>28.885806</td>\n",
       "      <td>0.669712</td>\n",
       "      <td>0.012469</td>\n",
       "      <td>0.500000</td>\n",
       "      <td>3.000000</td>\n",
       "    </tr>\n",
       "    <tr>\n",
       "      <th>max</th>\n",
       "      <td>1.000000</td>\n",
       "      <td>1.000000</td>\n",
       "      <td>1.000000</td>\n",
       "      <td>1.000000</td>\n",
       "      <td>8.432424e+08</td>\n",
       "      <td>120.779999</td>\n",
       "      <td>1.000000</td>\n",
       "      <td>2.828829</td>\n",
       "      <td>0.666667</td>\n",
       "      <td>4.000000</td>\n",
       "    </tr>\n",
       "  </tbody>\n",
       "</table>\n",
       "</div>"
      ],
      "text/plain": [
       "               Open          High           Low         Close        Volume  \\\n",
       "count  49956.000000  49956.000000  49956.000000  49956.000000  4.995600e+04   \n",
       "mean       0.474266      0.470725      0.481319      0.476344  7.742894e+06   \n",
       "std        0.248116      0.248520      0.248926      0.247638  3.622541e+07   \n",
       "min        0.000000      0.000000      0.000000      0.000000  0.000000e+00   \n",
       "25%        0.276575      0.273838      0.284469      0.280435  3.797750e+05   \n",
       "50%        0.471232      0.464631      0.478799      0.472103  1.285850e+06   \n",
       "75%        0.666327      0.660870      0.675340      0.668311  3.715600e+06   \n",
       "max        1.000000      1.000000      1.000000      1.000000  8.432424e+08   \n",
       "\n",
       "          Adj Close       Average        Return           Day             y  \n",
       "count  49956.000000  49956.000000  49956.000000  49956.000000  49956.000000  \n",
       "mean      22.484619      0.475897      0.000639      0.336636      2.006746  \n",
       "std       12.931536      0.249939      0.035410      0.233184      1.074995  \n",
       "min        0.660000      0.000000     -0.657534      0.000000      0.000000  \n",
       "25%       13.294423      0.276960     -0.012279      0.166667      1.000000  \n",
       "50%       21.027909      0.472237      0.000000      0.333333      2.000000  \n",
       "75%       28.885806      0.669712      0.012469      0.500000      3.000000  \n",
       "max      120.779999      1.000000      2.828829      0.666667      4.000000  "
      ]
     },
     "execution_count": 47,
     "metadata": {},
     "output_type": "execute_result"
    }
   ],
   "source": [
    "df.describe()"
   ]
  },
  {
   "cell_type": "code",
   "execution_count": 50,
   "metadata": {
    "collapsed": true
   },
   "outputs": [],
   "source": [
    "def RBM_fn(group):\n",
    "    #get x and y\n",
    "    X = group.loc[:,['Average','Day']]\n",
    "    y = group['Return']\n",
    "    X_train, X_test, y_train, y_test = train_test_split(X,y)\n",
    "\n",
    "    #do rbm\n",
    "    rbm = BernoulliRBM()\n",
    "    rbm.fit(X,y)\n",
    "    models[group.name] = rbm"
   ]
  },
  {
   "cell_type": "code",
   "execution_count": 51,
   "metadata": {},
   "outputs": [
    {
     "data": {
      "text/html": [
       "<div>\n",
       "<style>\n",
       "    .dataframe thead tr:only-child th {\n",
       "        text-align: right;\n",
       "    }\n",
       "\n",
       "    .dataframe thead th {\n",
       "        text-align: left;\n",
       "    }\n",
       "\n",
       "    .dataframe tbody tr th {\n",
       "        vertical-align: top;\n",
       "    }\n",
       "</style>\n",
       "<table border=\"1\" class=\"dataframe\">\n",
       "  <thead>\n",
       "    <tr style=\"text-align: right;\">\n",
       "      <th></th>\n",
       "    </tr>\n",
       "  </thead>\n",
       "  <tbody>\n",
       "  </tbody>\n",
       "</table>\n",
       "</div>"
      ],
      "text/plain": [
       "Empty DataFrame\n",
       "Columns: []\n",
       "Index: []"
      ]
     },
     "execution_count": 51,
     "metadata": {},
     "output_type": "execute_result"
    }
   ],
   "source": [
    "df.groupby('Stock').apply(func=RBM_fn);"
   ]
  },
  {
   "cell_type": "code",
   "execution_count": 57,
   "metadata": {},
   "outputs": [
    {
     "name": "stdout",
     "output_type": "stream",
     "text": [
      "The number of models is the same as the number of stocks?:  yes\n"
     ]
    }
   ],
   "source": [
    "print(\"The number of models is the same as the number of stocks?: \", \"yes\" if len(models) == len(df['Stock'].unique()) else \"no\")"
   ]
  },
  {
   "cell_type": "code",
   "execution_count": null,
   "metadata": {
    "collapsed": true
   },
   "outputs": [],
   "source": []
  }
 ],
 "metadata": {
  "kernelspec": {
   "display_name": "Python 3",
   "language": "python",
   "name": "python3"
  },
  "language_info": {
   "codemirror_mode": {
    "name": "ipython",
    "version": 3
   },
   "file_extension": ".py",
   "mimetype": "text/x-python",
   "name": "python",
   "nbconvert_exporter": "python",
   "pygments_lexer": "ipython3",
   "version": "3.5.2"
  }
 },
 "nbformat": 4,
 "nbformat_minor": 2
}
