{
 "cells": [
  {
   "cell_type": "markdown",
   "metadata": {},
   "source": [
    "# Binary Preprocessing"
   ]
  },
  {
   "cell_type": "code",
   "execution_count": 25,
   "metadata": {
    "collapsed": true
   },
   "outputs": [],
   "source": [
    "import matplotlib.pyplot as plt\n",
    "import pandas as pd\n",
    "import os\n",
    "%matplotlib inline"
   ]
  },
  {
   "cell_type": "markdown",
   "metadata": {},
   "source": [
    "## Importing dataset"
   ]
  },
  {
   "cell_type": "code",
   "execution_count": 26,
   "metadata": {
    "collapsed": true
   },
   "outputs": [],
   "source": [
    "df = pd.read_csv('dataset.csv')"
   ]
  },
  {
   "cell_type": "code",
   "execution_count": 27,
   "metadata": {},
   "outputs": [
    {
     "data": {
      "text/html": [
       "<div>\n",
       "<style>\n",
       "    .dataframe thead tr:only-child th {\n",
       "        text-align: right;\n",
       "    }\n",
       "\n",
       "    .dataframe thead th {\n",
       "        text-align: left;\n",
       "    }\n",
       "\n",
       "    .dataframe tbody tr th {\n",
       "        vertical-align: top;\n",
       "    }\n",
       "</style>\n",
       "<table border=\"1\" class=\"dataframe\">\n",
       "  <thead>\n",
       "    <tr style=\"text-align: right;\">\n",
       "      <th></th>\n",
       "      <th>Date</th>\n",
       "      <th>Open</th>\n",
       "      <th>High</th>\n",
       "      <th>Low</th>\n",
       "      <th>Close</th>\n",
       "      <th>Volume</th>\n",
       "      <th>Adj Close</th>\n",
       "      <th>Stock</th>\n",
       "      <th>Average</th>\n",
       "      <th>Return</th>\n",
       "      <th>Max</th>\n",
       "      <th>Min</th>\n",
       "      <th>Day</th>\n",
       "      <th>y</th>\n",
       "    </tr>\n",
       "  </thead>\n",
       "  <tbody>\n",
       "    <tr>\n",
       "      <th>0</th>\n",
       "      <td>2006-01-03</td>\n",
       "      <td>0.710553</td>\n",
       "      <td>0.707904</td>\n",
       "      <td>0.705324</td>\n",
       "      <td>0.714383</td>\n",
       "      <td>5307000</td>\n",
       "      <td>21.399132</td>\n",
       "      <td>A</td>\n",
       "      <td>0.711972</td>\n",
       "      <td>NaN</td>\n",
       "      <td>1</td>\n",
       "      <td>5</td>\n",
       "      <td>0.166667</td>\n",
       "      <td>NaN</td>\n",
       "    </tr>\n",
       "    <tr>\n",
       "      <th>1</th>\n",
       "      <td>2006-01-04</td>\n",
       "      <td>0.715643</td>\n",
       "      <td>0.716495</td>\n",
       "      <td>0.723974</td>\n",
       "      <td>0.717436</td>\n",
       "      <td>4195800</td>\n",
       "      <td>21.456621</td>\n",
       "      <td>A</td>\n",
       "      <td>0.720884</td>\n",
       "      <td>0.002687</td>\n",
       "      <td>1</td>\n",
       "      <td>5</td>\n",
       "      <td>0.333333</td>\n",
       "      <td>2.0</td>\n",
       "    </tr>\n",
       "    <tr>\n",
       "      <th>2</th>\n",
       "      <td>2006-01-05</td>\n",
       "      <td>0.712250</td>\n",
       "      <td>0.738488</td>\n",
       "      <td>0.726687</td>\n",
       "      <td>0.747286</td>\n",
       "      <td>4835400</td>\n",
       "      <td>22.018748</td>\n",
       "      <td>A</td>\n",
       "      <td>0.733739</td>\n",
       "      <td>0.026198</td>\n",
       "      <td>1</td>\n",
       "      <td>5</td>\n",
       "      <td>0.500000</td>\n",
       "      <td>3.0</td>\n",
       "    </tr>\n",
       "    <tr>\n",
       "      <th>3</th>\n",
       "      <td>2006-01-06</td>\n",
       "      <td>0.747879</td>\n",
       "      <td>0.749485</td>\n",
       "      <td>0.748389</td>\n",
       "      <td>0.753392</td>\n",
       "      <td>6146300</td>\n",
       "      <td>22.133729</td>\n",
       "      <td>A</td>\n",
       "      <td>0.752507</td>\n",
       "      <td>0.005222</td>\n",
       "      <td>1</td>\n",
       "      <td>5</td>\n",
       "      <td>0.666667</td>\n",
       "      <td>2.0</td>\n",
       "    </tr>\n",
       "    <tr>\n",
       "      <th>4</th>\n",
       "      <td>2006-01-09</td>\n",
       "      <td>0.752969</td>\n",
       "      <td>0.749828</td>\n",
       "      <td>0.759580</td>\n",
       "      <td>0.750000</td>\n",
       "      <td>4082800</td>\n",
       "      <td>22.069850</td>\n",
       "      <td>A</td>\n",
       "      <td>0.755849</td>\n",
       "      <td>-0.002886</td>\n",
       "      <td>1</td>\n",
       "      <td>5</td>\n",
       "      <td>0.000000</td>\n",
       "      <td>2.0</td>\n",
       "    </tr>\n",
       "  </tbody>\n",
       "</table>\n",
       "</div>"
      ],
      "text/plain": [
       "         Date      Open      High       Low     Close   Volume  Adj Close  \\\n",
       "0  2006-01-03  0.710553  0.707904  0.705324  0.714383  5307000  21.399132   \n",
       "1  2006-01-04  0.715643  0.716495  0.723974  0.717436  4195800  21.456621   \n",
       "2  2006-01-05  0.712250  0.738488  0.726687  0.747286  4835400  22.018748   \n",
       "3  2006-01-06  0.747879  0.749485  0.748389  0.753392  6146300  22.133729   \n",
       "4  2006-01-09  0.752969  0.749828  0.759580  0.750000  4082800  22.069850   \n",
       "\n",
       "  Stock   Average    Return  Max  Min       Day    y  \n",
       "0     A  0.711972       NaN    1    5  0.166667  NaN  \n",
       "1     A  0.720884  0.002687    1    5  0.333333  2.0  \n",
       "2     A  0.733739  0.026198    1    5  0.500000  3.0  \n",
       "3     A  0.752507  0.005222    1    5  0.666667  2.0  \n",
       "4     A  0.755849 -0.002886    1    5  0.000000  2.0  "
      ]
     },
     "execution_count": 27,
     "metadata": {},
     "output_type": "execute_result"
    }
   ],
   "source": [
    "df.head()"
   ]
  },
  {
   "cell_type": "markdown",
   "metadata": {},
   "source": [
    "## Creating binary input"
   ]
  },
  {
   "cell_type": "code",
   "execution_count": 28,
   "metadata": {
    "collapsed": true
   },
   "outputs": [],
   "source": [
    "def binarization(group):\n",
    "    if not \"Binary\" in group.columns:\n",
    "        group.loc[:,\"Binary\"] = group.loc[:,\"Close\"] - group.loc[:,\"Open\"]\n",
    "        return group"
   ]
  },
  {
   "cell_type": "code",
   "execution_count": 29,
   "metadata": {
    "collapsed": true,
    "scrolled": true
   },
   "outputs": [],
   "source": [
    "df = df.groupby(\"Stock\").apply(binarization)"
   ]
  },
  {
   "cell_type": "code",
   "execution_count": 30,
   "metadata": {},
   "outputs": [
    {
     "data": {
      "text/html": [
       "<div>\n",
       "<style>\n",
       "    .dataframe thead tr:only-child th {\n",
       "        text-align: right;\n",
       "    }\n",
       "\n",
       "    .dataframe thead th {\n",
       "        text-align: left;\n",
       "    }\n",
       "\n",
       "    .dataframe tbody tr th {\n",
       "        vertical-align: top;\n",
       "    }\n",
       "</style>\n",
       "<table border=\"1\" class=\"dataframe\">\n",
       "  <thead>\n",
       "    <tr style=\"text-align: right;\">\n",
       "      <th></th>\n",
       "      <th>Date</th>\n",
       "      <th>Open</th>\n",
       "      <th>High</th>\n",
       "      <th>Low</th>\n",
       "      <th>Close</th>\n",
       "      <th>Volume</th>\n",
       "      <th>Adj Close</th>\n",
       "      <th>Stock</th>\n",
       "      <th>Average</th>\n",
       "      <th>Return</th>\n",
       "      <th>Max</th>\n",
       "      <th>Min</th>\n",
       "      <th>Day</th>\n",
       "      <th>y</th>\n",
       "      <th>Binary</th>\n",
       "    </tr>\n",
       "  </thead>\n",
       "  <tbody>\n",
       "    <tr>\n",
       "      <th>0</th>\n",
       "      <td>2006-01-03</td>\n",
       "      <td>0.710553</td>\n",
       "      <td>0.707904</td>\n",
       "      <td>0.705324</td>\n",
       "      <td>0.714383</td>\n",
       "      <td>5307000</td>\n",
       "      <td>21.399132</td>\n",
       "      <td>A</td>\n",
       "      <td>0.711972</td>\n",
       "      <td>NaN</td>\n",
       "      <td>1</td>\n",
       "      <td>5</td>\n",
       "      <td>0.166667</td>\n",
       "      <td>NaN</td>\n",
       "      <td>0.003830</td>\n",
       "    </tr>\n",
       "    <tr>\n",
       "      <th>1</th>\n",
       "      <td>2006-01-04</td>\n",
       "      <td>0.715643</td>\n",
       "      <td>0.716495</td>\n",
       "      <td>0.723974</td>\n",
       "      <td>0.717436</td>\n",
       "      <td>4195800</td>\n",
       "      <td>21.456621</td>\n",
       "      <td>A</td>\n",
       "      <td>0.720884</td>\n",
       "      <td>0.002687</td>\n",
       "      <td>1</td>\n",
       "      <td>5</td>\n",
       "      <td>0.333333</td>\n",
       "      <td>2.0</td>\n",
       "      <td>0.001793</td>\n",
       "    </tr>\n",
       "    <tr>\n",
       "      <th>2</th>\n",
       "      <td>2006-01-05</td>\n",
       "      <td>0.712250</td>\n",
       "      <td>0.738488</td>\n",
       "      <td>0.726687</td>\n",
       "      <td>0.747286</td>\n",
       "      <td>4835400</td>\n",
       "      <td>22.018748</td>\n",
       "      <td>A</td>\n",
       "      <td>0.733739</td>\n",
       "      <td>0.026198</td>\n",
       "      <td>1</td>\n",
       "      <td>5</td>\n",
       "      <td>0.500000</td>\n",
       "      <td>3.0</td>\n",
       "      <td>0.035037</td>\n",
       "    </tr>\n",
       "    <tr>\n",
       "      <th>3</th>\n",
       "      <td>2006-01-06</td>\n",
       "      <td>0.747879</td>\n",
       "      <td>0.749485</td>\n",
       "      <td>0.748389</td>\n",
       "      <td>0.753392</td>\n",
       "      <td>6146300</td>\n",
       "      <td>22.133729</td>\n",
       "      <td>A</td>\n",
       "      <td>0.752507</td>\n",
       "      <td>0.005222</td>\n",
       "      <td>1</td>\n",
       "      <td>5</td>\n",
       "      <td>0.666667</td>\n",
       "      <td>2.0</td>\n",
       "      <td>0.005513</td>\n",
       "    </tr>\n",
       "    <tr>\n",
       "      <th>4</th>\n",
       "      <td>2006-01-09</td>\n",
       "      <td>0.752969</td>\n",
       "      <td>0.749828</td>\n",
       "      <td>0.759580</td>\n",
       "      <td>0.750000</td>\n",
       "      <td>4082800</td>\n",
       "      <td>22.069850</td>\n",
       "      <td>A</td>\n",
       "      <td>0.755849</td>\n",
       "      <td>-0.002886</td>\n",
       "      <td>1</td>\n",
       "      <td>5</td>\n",
       "      <td>0.000000</td>\n",
       "      <td>2.0</td>\n",
       "      <td>-0.002969</td>\n",
       "    </tr>\n",
       "  </tbody>\n",
       "</table>\n",
       "</div>"
      ],
      "text/plain": [
       "         Date      Open      High       Low     Close   Volume  Adj Close  \\\n",
       "0  2006-01-03  0.710553  0.707904  0.705324  0.714383  5307000  21.399132   \n",
       "1  2006-01-04  0.715643  0.716495  0.723974  0.717436  4195800  21.456621   \n",
       "2  2006-01-05  0.712250  0.738488  0.726687  0.747286  4835400  22.018748   \n",
       "3  2006-01-06  0.747879  0.749485  0.748389  0.753392  6146300  22.133729   \n",
       "4  2006-01-09  0.752969  0.749828  0.759580  0.750000  4082800  22.069850   \n",
       "\n",
       "  Stock   Average    Return  Max  Min       Day    y    Binary  \n",
       "0     A  0.711972       NaN    1    5  0.166667  NaN  0.003830  \n",
       "1     A  0.720884  0.002687    1    5  0.333333  2.0  0.001793  \n",
       "2     A  0.733739  0.026198    1    5  0.500000  3.0  0.035037  \n",
       "3     A  0.752507  0.005222    1    5  0.666667  2.0  0.005513  \n",
       "4     A  0.755849 -0.002886    1    5  0.000000  2.0 -0.002969  "
      ]
     },
     "execution_count": 30,
     "metadata": {},
     "output_type": "execute_result"
    }
   ],
   "source": [
    "df.head()"
   ]
  },
  {
   "cell_type": "code",
   "execution_count": 31,
   "metadata": {
    "collapsed": true
   },
   "outputs": [],
   "source": [
    "df.loc[:,\"Binary\"] = df.loc[:,\"Binary\"].apply(lambda binary : 0 if binary == 0 else (1 if binary > 0 else 2))\n",
    "df.loc[:,'Binary'] = df.Binary.apply(lambda num : format(num, '02b'))"
   ]
  },
  {
   "cell_type": "code",
   "execution_count": 32,
   "metadata": {},
   "outputs": [
    {
     "data": {
      "text/html": [
       "<div>\n",
       "<style>\n",
       "    .dataframe thead tr:only-child th {\n",
       "        text-align: right;\n",
       "    }\n",
       "\n",
       "    .dataframe thead th {\n",
       "        text-align: left;\n",
       "    }\n",
       "\n",
       "    .dataframe tbody tr th {\n",
       "        vertical-align: top;\n",
       "    }\n",
       "</style>\n",
       "<table border=\"1\" class=\"dataframe\">\n",
       "  <thead>\n",
       "    <tr style=\"text-align: right;\">\n",
       "      <th></th>\n",
       "      <th>Date</th>\n",
       "      <th>Open</th>\n",
       "      <th>High</th>\n",
       "      <th>Low</th>\n",
       "      <th>Close</th>\n",
       "      <th>Volume</th>\n",
       "      <th>Adj Close</th>\n",
       "      <th>Stock</th>\n",
       "      <th>Average</th>\n",
       "      <th>Return</th>\n",
       "      <th>Max</th>\n",
       "      <th>Min</th>\n",
       "      <th>Day</th>\n",
       "      <th>y</th>\n",
       "      <th>Binary</th>\n",
       "    </tr>\n",
       "  </thead>\n",
       "  <tbody>\n",
       "    <tr>\n",
       "      <th>0</th>\n",
       "      <td>2006-01-03</td>\n",
       "      <td>0.710553</td>\n",
       "      <td>0.707904</td>\n",
       "      <td>0.705324</td>\n",
       "      <td>0.714383</td>\n",
       "      <td>5307000</td>\n",
       "      <td>21.399132</td>\n",
       "      <td>A</td>\n",
       "      <td>0.711972</td>\n",
       "      <td>NaN</td>\n",
       "      <td>1</td>\n",
       "      <td>5</td>\n",
       "      <td>0.166667</td>\n",
       "      <td>NaN</td>\n",
       "      <td>01</td>\n",
       "    </tr>\n",
       "    <tr>\n",
       "      <th>1</th>\n",
       "      <td>2006-01-04</td>\n",
       "      <td>0.715643</td>\n",
       "      <td>0.716495</td>\n",
       "      <td>0.723974</td>\n",
       "      <td>0.717436</td>\n",
       "      <td>4195800</td>\n",
       "      <td>21.456621</td>\n",
       "      <td>A</td>\n",
       "      <td>0.720884</td>\n",
       "      <td>0.002687</td>\n",
       "      <td>1</td>\n",
       "      <td>5</td>\n",
       "      <td>0.333333</td>\n",
       "      <td>2.0</td>\n",
       "      <td>01</td>\n",
       "    </tr>\n",
       "    <tr>\n",
       "      <th>2</th>\n",
       "      <td>2006-01-05</td>\n",
       "      <td>0.712250</td>\n",
       "      <td>0.738488</td>\n",
       "      <td>0.726687</td>\n",
       "      <td>0.747286</td>\n",
       "      <td>4835400</td>\n",
       "      <td>22.018748</td>\n",
       "      <td>A</td>\n",
       "      <td>0.733739</td>\n",
       "      <td>0.026198</td>\n",
       "      <td>1</td>\n",
       "      <td>5</td>\n",
       "      <td>0.500000</td>\n",
       "      <td>3.0</td>\n",
       "      <td>01</td>\n",
       "    </tr>\n",
       "    <tr>\n",
       "      <th>3</th>\n",
       "      <td>2006-01-06</td>\n",
       "      <td>0.747879</td>\n",
       "      <td>0.749485</td>\n",
       "      <td>0.748389</td>\n",
       "      <td>0.753392</td>\n",
       "      <td>6146300</td>\n",
       "      <td>22.133729</td>\n",
       "      <td>A</td>\n",
       "      <td>0.752507</td>\n",
       "      <td>0.005222</td>\n",
       "      <td>1</td>\n",
       "      <td>5</td>\n",
       "      <td>0.666667</td>\n",
       "      <td>2.0</td>\n",
       "      <td>01</td>\n",
       "    </tr>\n",
       "    <tr>\n",
       "      <th>4</th>\n",
       "      <td>2006-01-09</td>\n",
       "      <td>0.752969</td>\n",
       "      <td>0.749828</td>\n",
       "      <td>0.759580</td>\n",
       "      <td>0.750000</td>\n",
       "      <td>4082800</td>\n",
       "      <td>22.069850</td>\n",
       "      <td>A</td>\n",
       "      <td>0.755849</td>\n",
       "      <td>-0.002886</td>\n",
       "      <td>1</td>\n",
       "      <td>5</td>\n",
       "      <td>0.000000</td>\n",
       "      <td>2.0</td>\n",
       "      <td>10</td>\n",
       "    </tr>\n",
       "  </tbody>\n",
       "</table>\n",
       "</div>"
      ],
      "text/plain": [
       "         Date      Open      High       Low     Close   Volume  Adj Close  \\\n",
       "0  2006-01-03  0.710553  0.707904  0.705324  0.714383  5307000  21.399132   \n",
       "1  2006-01-04  0.715643  0.716495  0.723974  0.717436  4195800  21.456621   \n",
       "2  2006-01-05  0.712250  0.738488  0.726687  0.747286  4835400  22.018748   \n",
       "3  2006-01-06  0.747879  0.749485  0.748389  0.753392  6146300  22.133729   \n",
       "4  2006-01-09  0.752969  0.749828  0.759580  0.750000  4082800  22.069850   \n",
       "\n",
       "  Stock   Average    Return  Max  Min       Day    y Binary  \n",
       "0     A  0.711972       NaN    1    5  0.166667  NaN     01  \n",
       "1     A  0.720884  0.002687    1    5  0.333333  2.0     01  \n",
       "2     A  0.733739  0.026198    1    5  0.500000  3.0     01  \n",
       "3     A  0.752507  0.005222    1    5  0.666667  2.0     01  \n",
       "4     A  0.755849 -0.002886    1    5  0.000000  2.0     10  "
      ]
     },
     "execution_count": 32,
     "metadata": {},
     "output_type": "execute_result"
    }
   ],
   "source": [
    "df.head()"
   ]
  },
  {
   "cell_type": "code",
   "execution_count": 35,
   "metadata": {},
   "outputs": [
    {
     "data": {
      "text/plain": [
       "<matplotlib.axes._subplots.AxesSubplot at 0x1128406a0>"
      ]
     },
     "execution_count": 35,
     "metadata": {},
     "output_type": "execute_result"
    },
    {
     "data": {
      "image/png": "[encoded data removed]",
      "text/plain": [
       "<matplotlib.figure.Figure at 0x105d9d710>"
      ]
     },
     "metadata": {},
     "output_type": "display_data"
    }
   ],
   "source": [
    "df.Binary.value_counts().plot(kind='bar')"
   ]
  },
  {
   "cell_type": "markdown",
   "metadata": {
    "collapsed": true
   },
   "source": [
    "## Adding day to the encoding\n",
    "* 000: Monday 0\n",
    "* 001: Tuesday\n",
    "* 010: Wednesday\n",
    "* 011: Thursday\n",
    "* 100: Friday"
   ]
  },
  {
   "cell_type": "code",
   "execution_count": 17,
   "metadata": {},
   "outputs": [],
   "source": [
    "df.loc[:,'Date'] = pd.to_datetime(df.loc[:,'Date'])\n",
    "df.loc[:,'Day_bin'] = df.Date.dt.dayofweek.apply(lambda day : format(day, '03b'))"
   ]
  },
  {
   "cell_type": "code",
   "execution_count": 21,
   "metadata": {},
   "outputs": [
    {
     "data": {
      "text/plain": [
       "0    001\n",
       "1    010\n",
       "2    011\n",
       "3    100\n",
       "4    000\n",
       "Name: Day_bin, dtype: object"
      ]
     },
     "execution_count": 21,
     "metadata": {},
     "output_type": "execute_result"
    }
   ],
   "source": [
    "df.Day_bin.head()"
   ]
  },
  {
   "cell_type": "code",
   "execution_count": null,
   "metadata": {
    "collapsed": true
   },
   "outputs": [],
   "source": []
  }
 ],
 "metadata": {
  "kernelspec": {
   "display_name": "Python 3",
   "language": "python",
   "name": "python3"
  },
  "language_info": {
   "codemirror_mode": {
    "name": "ipython",
    "version": 3
   },
   "file_extension": ".py",
   "mimetype": "text/x-python",
   "name": "python",
   "nbconvert_exporter": "python",
   "pygments_lexer": "ipython3",
   "version": "3.5.2"
  }
 },
 "nbformat": 4,
 "nbformat_minor": 2
}
