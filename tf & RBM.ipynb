{
 "cells": [
  {
   "cell_type": "code",
   "execution_count": 1,
   "metadata": {
    "collapsed": true
   },
   "outputs": [],
   "source": [
    "import tensorflow as tf\n",
    "import numpy as np\n",
    "import pandas as pd\n",
    "import matplotlib.pyplot as plt\n",
    "%matplotlib inline"
   ]
  },
  {
   "cell_type": "code",
   "execution_count": 3,
   "metadata": {
    "collapsed": true
   },
   "outputs": [],
   "source": [
    "df = pd.read_csv('dataset.csv')\n",
    "df = df[df.Stock == 'A']\n",
    "\n",
    "k=5 #Max lags\n",
    "\n",
    "X = pd.DataFrame()\n",
    "X.loc[:,'Day'] = df.loc[:,'Day'].iloc[0:-k].reset_index(drop=True)\n",
    "y = df['y'].iloc[k:].reset_index(drop=True)\n",
    "y2 = df['Return'].iloc[k:].reset_index(drop=True)\n",
    "\n",
    "for i in range(k):\n",
    "        X.loc[:,('Lag %i' % (i+1))] = df.loc[:,'Average'].iloc[k-1-i:-1-i].reset_index(drop=True)\n",
    "        \n",
    "split_var = int(X.shape[0]/4*3)\n",
    "X_train, X_test, y_train, y_test = [X.iloc[:split_var,:],X.iloc[split_var:,:],y.iloc[:split_var],y.iloc[split_var:]]\n",
    "\n",
    "## exporting file to use in R\n",
    "X_train.to_csv(\"X_train.csv\")\n",
    "X_test.to_csv(\"X_test.csv\")\n",
    "y_train.to_csv(\"y_train.csv\")\n",
    "y_test.to_csv(\"y_test.csv\")"
   ]
  },
  {
   "cell_type": "code",
   "execution_count": 3,
   "metadata": {},
   "outputs": [
    {
     "data": {
      "text/html": [
       "<div>\n",
       "<style>\n",
       "    .dataframe thead tr:only-child th {\n",
       "        text-align: right;\n",
       "    }\n",
       "\n",
       "    .dataframe thead th {\n",
       "        text-align: left;\n",
       "    }\n",
       "\n",
       "    .dataframe tbody tr th {\n",
       "        vertical-align: top;\n",
       "    }\n",
       "</style>\n",
       "<table border=\"1\" class=\"dataframe\">\n",
       "  <thead>\n",
       "    <tr style=\"text-align: right;\">\n",
       "      <th></th>\n",
       "      <th>Day</th>\n",
       "      <th>Lag 1</th>\n",
       "      <th>Lag 2</th>\n",
       "      <th>Lag 3</th>\n",
       "      <th>Lag 4</th>\n",
       "      <th>Lag 5</th>\n",
       "    </tr>\n",
       "  </thead>\n",
       "  <tbody>\n",
       "    <tr>\n",
       "      <th>0</th>\n",
       "      <td>0.166667</td>\n",
       "      <td>0.755849</td>\n",
       "      <td>0.752507</td>\n",
       "      <td>0.733739</td>\n",
       "      <td>0.720884</td>\n",
       "      <td>0.711972</td>\n",
       "    </tr>\n",
       "    <tr>\n",
       "      <th>1</th>\n",
       "      <td>0.333333</td>\n",
       "      <td>0.755249</td>\n",
       "      <td>0.755849</td>\n",
       "      <td>0.752507</td>\n",
       "      <td>0.733739</td>\n",
       "      <td>0.720884</td>\n",
       "    </tr>\n",
       "    <tr>\n",
       "      <th>2</th>\n",
       "      <td>0.500000</td>\n",
       "      <td>0.766561</td>\n",
       "      <td>0.755249</td>\n",
       "      <td>0.755849</td>\n",
       "      <td>0.752507</td>\n",
       "      <td>0.733739</td>\n",
       "    </tr>\n",
       "    <tr>\n",
       "      <th>3</th>\n",
       "      <td>0.666667</td>\n",
       "      <td>0.752250</td>\n",
       "      <td>0.766561</td>\n",
       "      <td>0.755249</td>\n",
       "      <td>0.755849</td>\n",
       "      <td>0.752507</td>\n",
       "    </tr>\n",
       "    <tr>\n",
       "      <th>4</th>\n",
       "      <td>0.000000</td>\n",
       "      <td>0.734510</td>\n",
       "      <td>0.752250</td>\n",
       "      <td>0.766561</td>\n",
       "      <td>0.755249</td>\n",
       "      <td>0.755849</td>\n",
       "    </tr>\n",
       "  </tbody>\n",
       "</table>\n",
       "</div>"
      ],
      "text/plain": [
       "        Day     Lag 1     Lag 2     Lag 3     Lag 4     Lag 5\n",
       "0  0.166667  0.755849  0.752507  0.733739  0.720884  0.711972\n",
       "1  0.333333  0.755249  0.755849  0.752507  0.733739  0.720884\n",
       "2  0.500000  0.766561  0.755249  0.755849  0.752507  0.733739\n",
       "3  0.666667  0.752250  0.766561  0.755249  0.755849  0.752507\n",
       "4  0.000000  0.734510  0.752250  0.766561  0.755249  0.755849"
      ]
     },
     "execution_count": 3,
     "metadata": {},
     "output_type": "execute_result"
    }
   ],
   "source": [
    "X_train.head()"
   ]
  },
  {
   "cell_type": "code",
   "execution_count": 4,
   "metadata": {
    "collapsed": true
   },
   "outputs": [],
   "source": [
    "size = k+1\n",
    "hidden_layers = 1000"
   ]
  },
  {
   "cell_type": "code",
   "execution_count": 5,
   "metadata": {
    "collapsed": true
   },
   "outputs": [],
   "source": [
    "vb = tf.placeholder(\"float\", [size])\n",
    "hb = tf.placeholder(\"float\", [hidden_layers])"
   ]
  },
  {
   "cell_type": "code",
   "execution_count": 6,
   "metadata": {
    "collapsed": true
   },
   "outputs": [],
   "source": [
    "W = tf.placeholder(\"float\", [size, hidden_layers])"
   ]
  },
  {
   "cell_type": "code",
   "execution_count": 7,
   "metadata": {
    "collapsed": true
   },
   "outputs": [],
   "source": [
    "X = tf.placeholder(\"float\", [None, size])\n",
    "_h0 = tf.nn.sigmoid(tf.matmul(X, W) + hb)  #probabilities of the hidden units\n",
    "h0 = tf.nn.relu(tf.sign(_h0 - tf.random_uniform(tf.shape(_h0)))) #sample_h_given_X"
   ]
  },
  {
   "cell_type": "code",
   "execution_count": 8,
   "metadata": {
    "collapsed": true
   },
   "outputs": [],
   "source": [
    "_v1 = tf.nn.sigmoid(tf.matmul(h0, tf.transpose(W)) + vb) \n",
    "v1 = tf.nn.relu(tf.sign(_v1 - tf.random_uniform(tf.shape(_v1)))) #sample_v_given_h\n",
    "h1 = tf.nn.sigmoid(tf.matmul(v1, W) + hb)"
   ]
  },
  {
   "cell_type": "code",
   "execution_count": 9,
   "metadata": {
    "collapsed": true
   },
   "outputs": [],
   "source": [
    "alpha = 0.001\n",
    "w_pos_grad = tf.matmul(tf.transpose(X), h0)\n",
    "w_neg_grad = tf.matmul(tf.transpose(v1), h1)\n",
    "CD = (w_pos_grad - w_neg_grad) / tf.to_float(tf.shape(X)[0])\n",
    "update_w = W + alpha * CD\n",
    "update_vb = vb + alpha * tf.reduce_mean(X - v1, 0)\n",
    "update_hb = hb + alpha * tf.reduce_mean(h0 - h1, 0)"
   ]
  },
  {
   "cell_type": "code",
   "execution_count": 10,
   "metadata": {
    "collapsed": true
   },
   "outputs": [],
   "source": [
    "err = tf.reduce_mean(tf.square(X - v1))"
   ]
  },
  {
   "cell_type": "code",
   "execution_count": 11,
   "metadata": {
    "collapsed": true
   },
   "outputs": [],
   "source": [
    "cur_w = np.zeros([size, hidden_layers], np.float64)\n",
    "cur_vb = np.zeros([size], np.float64)\n",
    "cur_hb = np.zeros([hidden_layers], np.float64)\n",
    "prv_w = np.zeros([size, hidden_layers], np.float64)\n",
    "prv_vb = np.zeros([size], np.float64)\n",
    "prv_hb = np.zeros([hidden_layers], np.float64)\n",
    "sess = tf.Session()\n",
    "init = tf.global_variables_initializer()\n",
    "sess.run(init)"
   ]
  },
  {
   "cell_type": "code",
   "execution_count": 12,
   "metadata": {},
   "outputs": [
    {
     "name": "stdout",
     "output_type": "stream",
     "text": [
      "first error  0.333394\n"
     ]
    }
   ],
   "source": [
    "print(\"first error \", sess.run(err, feed_dict={X: X_train, W: prv_w, vb: prv_vb, hb: prv_hb}))"
   ]
  },
  {
   "cell_type": "code",
   "execution_count": 13,
   "metadata": {},
   "outputs": [
    {
     "name": "stdout",
     "output_type": "stream",
     "text": [
      "Epoch: 0 reconstruction error: 0.329707\n",
      "Epoch: 1 reconstruction error: 0.327335\n",
      "Epoch: 2 reconstruction error: 0.322618\n",
      "Epoch: 3 reconstruction error: 0.311918\n",
      "Epoch: 4 reconstruction error: 0.314025\n",
      "Epoch: 5 reconstruction error: 0.310922\n",
      "Epoch: 6 reconstruction error: 0.321064\n",
      "Epoch: 7 reconstruction error: 0.307390\n",
      "Epoch: 8 reconstruction error: 0.307825\n",
      "Epoch: 9 reconstruction error: 0.312361\n",
      "Epoch: 10 reconstruction error: 0.307421\n",
      "Epoch: 11 reconstruction error: 0.306059\n",
      "Epoch: 12 reconstruction error: 0.303252\n",
      "Epoch: 13 reconstruction error: 0.307458\n",
      "Epoch: 14 reconstruction error: 0.309697\n",
      "Epoch: 15 reconstruction error: 0.297828\n",
      "Epoch: 16 reconstruction error: 0.302738\n",
      "Epoch: 17 reconstruction error: 0.303312\n",
      "Epoch: 18 reconstruction error: 0.295310\n",
      "Epoch: 19 reconstruction error: 0.303232\n",
      "Epoch: 20 reconstruction error: 0.299974\n",
      "Epoch: 21 reconstruction error: 0.299751\n",
      "Epoch: 22 reconstruction error: 0.296910\n",
      "Epoch: 23 reconstruction error: 0.298216\n",
      "Epoch: 24 reconstruction error: 0.299225\n",
      "Epoch: 25 reconstruction error: 0.294544\n",
      "Epoch: 26 reconstruction error: 0.298578\n",
      "Epoch: 27 reconstruction error: 0.298791\n",
      "Epoch: 28 reconstruction error: 0.293040\n",
      "Epoch: 29 reconstruction error: 0.295491\n",
      "Epoch: 30 reconstruction error: 0.293074\n",
      "Epoch: 31 reconstruction error: 0.300568\n",
      "Epoch: 32 reconstruction error: 0.291006\n",
      "Epoch: 33 reconstruction error: 0.289677\n",
      "Epoch: 34 reconstruction error: 0.297329\n",
      "Epoch: 35 reconstruction error: 0.294604\n",
      "Epoch: 36 reconstruction error: 0.300531\n",
      "Epoch: 37 reconstruction error: 0.297416\n",
      "Epoch: 38 reconstruction error: 0.296525\n",
      "Epoch: 39 reconstruction error: 0.293681\n",
      "Epoch: 40 reconstruction error: 0.289826\n",
      "Epoch: 41 reconstruction error: 0.295203\n",
      "Epoch: 42 reconstruction error: 0.287271\n",
      "Epoch: 43 reconstruction error: 0.287208\n",
      "Epoch: 44 reconstruction error: 0.290935\n",
      "Epoch: 45 reconstruction error: 0.288082\n",
      "Epoch: 46 reconstruction error: 0.286498\n",
      "Epoch: 47 reconstruction error: 0.291943\n",
      "Epoch: 48 reconstruction error: 0.293379\n",
      "Epoch: 49 reconstruction error: 0.289713\n",
      "Epoch: 50 reconstruction error: 0.286149\n",
      "Epoch: 51 reconstruction error: 0.291266\n",
      "Epoch: 52 reconstruction error: 0.291187\n",
      "Epoch: 53 reconstruction error: 0.293084\n",
      "Epoch: 54 reconstruction error: 0.291028\n",
      "Epoch: 55 reconstruction error: 0.286991\n",
      "Epoch: 56 reconstruction error: 0.289208\n",
      "Epoch: 57 reconstruction error: 0.294737\n",
      "Epoch: 58 reconstruction error: 0.283071\n",
      "Epoch: 59 reconstruction error: 0.287235\n",
      "Epoch: 60 reconstruction error: 0.282816\n",
      "Epoch: 61 reconstruction error: 0.288331\n",
      "Epoch: 62 reconstruction error: 0.287604\n",
      "Epoch: 63 reconstruction error: 0.291853\n",
      "Epoch: 64 reconstruction error: 0.288637\n",
      "Epoch: 65 reconstruction error: 0.286365\n",
      "Epoch: 66 reconstruction error: 0.290753\n",
      "Epoch: 67 reconstruction error: 0.286671\n",
      "Epoch: 68 reconstruction error: 0.289269\n",
      "Epoch: 69 reconstruction error: 0.283478\n",
      "Epoch: 70 reconstruction error: 0.288538\n",
      "Epoch: 71 reconstruction error: 0.290281\n",
      "Epoch: 72 reconstruction error: 0.288990\n",
      "Epoch: 73 reconstruction error: 0.293106\n",
      "Epoch: 74 reconstruction error: 0.282374\n",
      "Epoch: 75 reconstruction error: 0.285001\n",
      "Epoch: 76 reconstruction error: 0.286119\n",
      "Epoch: 77 reconstruction error: 0.296254\n",
      "Epoch: 78 reconstruction error: 0.290236\n",
      "Epoch: 79 reconstruction error: 0.283810\n",
      "Epoch: 80 reconstruction error: 0.287743\n",
      "Epoch: 81 reconstruction error: 0.285430\n",
      "Epoch: 82 reconstruction error: 0.287799\n",
      "Epoch: 83 reconstruction error: 0.287254\n",
      "Epoch: 84 reconstruction error: 0.290178\n",
      "Epoch: 85 reconstruction error: 0.290280\n",
      "Epoch: 86 reconstruction error: 0.290373\n",
      "Epoch: 87 reconstruction error: 0.288024\n",
      "Epoch: 88 reconstruction error: 0.288114\n",
      "Epoch: 89 reconstruction error: 0.286043\n",
      "Epoch: 90 reconstruction error: 0.290539\n",
      "Epoch: 91 reconstruction error: 0.287281\n",
      "Epoch: 92 reconstruction error: 0.293463\n",
      "Epoch: 93 reconstruction error: 0.292999\n",
      "Epoch: 94 reconstruction error: 0.290003\n",
      "Epoch: 95 reconstruction error: 0.291013\n",
      "Epoch: 96 reconstruction error: 0.283374\n",
      "Epoch: 97 reconstruction error: 0.282448\n",
      "Epoch: 98 reconstruction error: 0.280573\n",
      "Epoch: 99 reconstruction error: 0.292119\n",
      "Epoch: 100 reconstruction error: 0.282323\n",
      "Epoch: 101 reconstruction error: 0.286303\n",
      "Epoch: 102 reconstruction error: 0.296266\n",
      "Epoch: 103 reconstruction error: 0.288211\n",
      "Epoch: 104 reconstruction error: 0.288457\n",
      "Epoch: 105 reconstruction error: 0.290377\n",
      "Epoch: 106 reconstruction error: 0.288960\n",
      "Epoch: 107 reconstruction error: 0.283902\n",
      "Epoch: 108 reconstruction error: 0.285556\n",
      "Epoch: 109 reconstruction error: 0.289617\n",
      "Epoch: 110 reconstruction error: 0.290174\n",
      "Epoch: 111 reconstruction error: 0.294804\n",
      "Epoch: 112 reconstruction error: 0.294714\n",
      "Epoch: 113 reconstruction error: 0.285697\n",
      "Epoch: 114 reconstruction error: 0.287918\n",
      "Epoch: 115 reconstruction error: 0.294007\n",
      "Epoch: 116 reconstruction error: 0.294247\n",
      "Epoch: 117 reconstruction error: 0.290858\n",
      "Epoch: 118 reconstruction error: 0.286839\n",
      "Epoch: 119 reconstruction error: 0.290492\n",
      "Epoch: 120 reconstruction error: 0.290484\n",
      "Epoch: 121 reconstruction error: 0.283391\n",
      "Epoch: 122 reconstruction error: 0.289677\n",
      "Epoch: 123 reconstruction error: 0.290229\n",
      "Epoch: 124 reconstruction error: 0.288933\n",
      "Epoch: 125 reconstruction error: 0.291660\n",
      "Epoch: 126 reconstruction error: 0.292021\n",
      "Epoch: 127 reconstruction error: 0.282023\n",
      "Epoch: 128 reconstruction error: 0.293588\n",
      "Epoch: 129 reconstruction error: 0.288609\n",
      "Epoch: 130 reconstruction error: 0.285552\n",
      "Epoch: 131 reconstruction error: 0.285415\n",
      "Epoch: 132 reconstruction error: 0.289847\n",
      "Epoch: 133 reconstruction error: 0.288158\n",
      "Epoch: 134 reconstruction error: 0.289683\n",
      "Epoch: 135 reconstruction error: 0.287872\n",
      "Epoch: 136 reconstruction error: 0.288383\n",
      "Epoch: 137 reconstruction error: 0.286407\n",
      "Epoch: 138 reconstruction error: 0.289774\n",
      "Epoch: 139 reconstruction error: 0.291585\n",
      "Epoch: 140 reconstruction error: 0.291194\n",
      "Epoch: 141 reconstruction error: 0.287191\n",
      "Epoch: 142 reconstruction error: 0.296111\n",
      "Epoch: 143 reconstruction error: 0.284861\n",
      "Epoch: 144 reconstruction error: 0.291672\n",
      "Epoch: 145 reconstruction error: 0.288000\n",
      "Epoch: 146 reconstruction error: 0.285825\n",
      "Epoch: 147 reconstruction error: 0.298141\n",
      "Epoch: 148 reconstruction error: 0.291804\n",
      "Epoch: 149 reconstruction error: 0.288342\n",
      "Epoch: 150 reconstruction error: 0.288492\n",
      "Epoch: 151 reconstruction error: 0.285568\n",
      "Epoch: 152 reconstruction error: 0.289146\n",
      "Epoch: 153 reconstruction error: 0.291595\n",
      "Epoch: 154 reconstruction error: 0.289517\n",
      "Epoch: 155 reconstruction error: 0.284975\n",
      "Epoch: 156 reconstruction error: 0.294456\n",
      "Epoch: 157 reconstruction error: 0.291028\n",
      "Epoch: 158 reconstruction error: 0.293436\n",
      "Epoch: 159 reconstruction error: 0.286924\n",
      "Epoch: 160 reconstruction error: 0.287014\n",
      "Epoch: 161 reconstruction error: 0.293169\n",
      "Epoch: 162 reconstruction error: 0.287535\n",
      "Epoch: 163 reconstruction error: 0.292151\n",
      "Epoch: 164 reconstruction error: 0.289016\n",
      "Epoch: 165 reconstruction error: 0.286028\n",
      "Epoch: 166 reconstruction error: 0.288271\n",
      "Epoch: 167 reconstruction error: 0.288362\n",
      "Epoch: 168 reconstruction error: 0.293255\n",
      "Epoch: 169 reconstruction error: 0.284560\n",
      "Epoch: 170 reconstruction error: 0.290628\n",
      "Epoch: 171 reconstruction error: 0.294155\n",
      "Epoch: 172 reconstruction error: 0.297372\n",
      "Epoch: 173 reconstruction error: 0.283093\n",
      "Epoch: 174 reconstruction error: 0.287197\n",
      "Epoch: 175 reconstruction error: 0.291149\n",
      "Epoch: 176 reconstruction error: 0.288147\n",
      "Epoch: 177 reconstruction error: 0.286222\n",
      "Epoch: 178 reconstruction error: 0.291430\n",
      "Epoch: 179 reconstruction error: 0.288359\n",
      "Epoch: 180 reconstruction error: 0.285542\n",
      "Epoch: 181 reconstruction error: 0.290453\n",
      "Epoch: 182 reconstruction error: 0.290716\n",
      "Epoch: 183 reconstruction error: 0.286974\n",
      "Epoch: 184 reconstruction error: 0.286051\n",
      "Epoch: 185 reconstruction error: 0.287888\n",
      "Epoch: 186 reconstruction error: 0.289031\n",
      "Epoch: 187 reconstruction error: 0.281031\n",
      "Epoch: 188 reconstruction error: 0.285721\n",
      "Epoch: 189 reconstruction error: 0.293311\n",
      "Epoch: 190 reconstruction error: 0.286644\n",
      "Epoch: 191 reconstruction error: 0.288858\n",
      "Epoch: 192 reconstruction error: 0.293702\n",
      "Epoch: 193 reconstruction error: 0.290061\n",
      "Epoch: 194 reconstruction error: 0.291368\n",
      "Epoch: 195 reconstruction error: 0.295060\n",
      "Epoch: 196 reconstruction error: 0.285562\n",
      "Epoch: 197 reconstruction error: 0.286783\n",
      "Epoch: 198 reconstruction error: 0.289874\n"
     ]
    },
    {
     "name": "stdout",
     "output_type": "stream",
     "text": [
      "Epoch: 199 reconstruction error: 0.285132\n"
     ]
    },
    {
     "data": {
      "image/png": "[encoded data removed]",
      "text/plain": [
       "<matplotlib.figure.Figure at 0x11138ba90>"
      ]
     },
     "metadata": {},
     "output_type": "display_data"
    }
   ],
   "source": [
    "#Parameters\n",
    "epochs = 200\n",
    "batchsize = len(X_train)-90\n",
    "weights = []\n",
    "errors = []\n",
    "\n",
    "for epoch in range(epochs):\n",
    "    for start, end in zip( range(0, len(X_train), batchsize), range(batchsize, len(X_train), batchsize)):\n",
    "        batch = X_train[start:end]\n",
    "        cur_w = sess.run(update_w, feed_dict={ X: batch, W: prv_w, vb: prv_vb, hb: prv_hb})\n",
    "        cur_vb = sess.run(update_vb, feed_dict={  X: batch, W: prv_w, vb: prv_vb, hb: prv_hb})\n",
    "        cur_hb = sess.run(update_hb, feed_dict={ X: batch, W: prv_w, vb: prv_vb, hb: prv_hb})\n",
    "        prv_w = cur_w\n",
    "        prv_vb = cur_vb\n",
    "        prv_hb = cur_hb\n",
    "        if start % 10000 == 0:\n",
    "            errors.append(sess.run(err, feed_dict={X: X_train, W: cur_w, vb: cur_vb, hb: cur_hb}))\n",
    "            weights.append(cur_w)\n",
    "    print('Epoch: %d' % epoch,'reconstruction error: %f' % errors[-1])\n",
    "plt.plot(errors)\n",
    "plt.xlabel(\"Batch Number\")\n",
    "plt.ylabel(\"Error\")\n",
    "plt.show()"
   ]
  },
  {
   "cell_type": "markdown",
   "metadata": {
    "collapsed": true
   },
   "source": [
    "## Constructing the output"
   ]
  },
  {
   "cell_type": "code",
   "execution_count": 23,
   "metadata": {
    "collapsed": true
   },
   "outputs": [],
   "source": [
    "hh0 = tf.nn.sigmoid(tf.matmul(X_train.astype(np.float32), W) + hb)\n",
    "vv1 = tf.nn.sigmoid(tf.matmul(hh0, tf.transpose(W)) + vb)\n",
    "feed = sess.run(hh0, feed_dict={ X: X_train, W: prv_w, hb: prv_hb})\n",
    "rec = sess.run(vv1, feed_dict={ hh0: feed, W: prv_w, vb: prv_vb})"
   ]
  },
  {
   "cell_type": "code",
   "execution_count": 25,
   "metadata": {},
   "outputs": [
    {
     "data": {
      "text/plain": [
       "(940, 6)"
      ]
     },
     "execution_count": 25,
     "metadata": {},
     "output_type": "execute_result"
    }
   ],
   "source": [
    "rec.shape"
   ]
  },
  {
   "cell_type": "code",
   "execution_count": null,
   "metadata": {
    "collapsed": true
   },
   "outputs": [],
   "source": []
  }
 ],
 "metadata": {
  "kernelspec": {
   "display_name": "Python 3",
   "language": "python",
   "name": "python3"
  },
  "language_info": {
   "codemirror_mode": {
    "name": "ipython",
    "version": 3
   },
   "file_extension": ".py",
   "mimetype": "text/x-python",
   "name": "python",
   "nbconvert_exporter": "python",
   "pygments_lexer": "ipython3",
   "version": "3.5.2"
  }
 },
 "nbformat": 4,
 "nbformat_minor": 2
}
